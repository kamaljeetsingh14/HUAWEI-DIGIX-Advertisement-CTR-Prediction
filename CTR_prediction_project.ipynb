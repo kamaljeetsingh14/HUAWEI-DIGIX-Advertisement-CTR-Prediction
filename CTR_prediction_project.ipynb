{
 "cells": [
  {
   "cell_type": "markdown",
   "id": "8a6a44d4",
   "metadata": {},
   "source": []
  },
  {
   "cell_type": "code",
   "execution_count": 1,
   "id": "5996a34d",
   "metadata": {},
   "outputs": [],
   "source": [
    "import warnings\n",
    "warnings.filterwarnings('ignore')\n",
    "import pandas as pd\n",
    "import imblearn\n",
    "from sklearn.tree import DecisionTreeClassifier\n",
    "from sklearn.ensemble import RandomForestClassifier\n",
    "import xgboost as xgb\n",
    "from xgboost.sklearn import XGBClassifier\n",
    "from sklearn.linear_model import LogisticRegression\n",
    "from sklearn.metrics import confusion_matrix, precision_score, recall_score, roc_curve, roc_auc_score,f1_score, classification_report\n",
    "from sklearn.model_selection import train_test_split, cross_val_score\n",
    "from sklearn.feature_selection import f_classif,chi2\n",
    "from sklearn import tree\n",
    "import numpy as np\n",
    "import matplotlib.pyplot as plt\n",
    "import seaborn as sns\n",
    "from scipy.stats import chi2_contingency \n",
    "import random\n",
    "\n",
    "import scipy.stats as stats \n",
    "\n",
    "from imblearn.over_sampling import RandomOverSampler\n",
    "from imblearn.under_sampling import RandomUnderSampler\n",
    "\n",
    "#data = pd.read_csv(\"C:/Users/ual-laptop/Downloads/train_data.csv\"\", sep = \"|\",nrows = 120000)\n",
    "#data[\"label\"].value_counts()"
   ]
  },
  {
   "cell_type": "code",
   "execution_count": 2,
   "id": "28dc6411",
   "metadata": {},
   "outputs": [],
   "source": [
    "# Take random sample from the data\n",
    "\n",
    "\n",
    "columns = ['label', 'uid', 'task_id', 'adv_id', 'creat_type_cd', 'adv_prim_id',\n",
    "       'dev_id', 'inter_type_cd', 'slot_id', 'spread_app_id', 'tags',\n",
    "       'app_first_class', 'app_second_class', 'age', 'city', 'city_rank',\n",
    "       'device_name', 'device_size', 'career', 'gender', 'net_type',\n",
    "       'residence', 'his_app_size', 'his_on_shelf_time', 'app_score',\n",
    "       'emui_dev', 'list_time', 'device_price', 'up_life_duration',\n",
    "       'up_membership_grade', 'membership_life_duration', 'consume_purchase',\n",
    "       'communication_onlinerate', 'communication_avgonline_30d', 'indu_name',\n",
    "       'pt_d']\n",
    "\n",
    "\n",
    "\n",
    "data = pd.DataFrame()\n",
    "\n",
    "for i in range(1,51):\n",
    "       #print(i)\n",
    "       s = 10000*(i-1)\n",
    "       df = pd.read_csv(\"C:/Users/ual-laptop/Downloads/train_data.csv\", sep = \"|\",skiprows=s,nrows = 10000)\n",
    "       df.columns = columns\n",
    "       skip = sorted(random.sample(range(10000),2400))\n",
    "       df = df.iloc[skip]\n",
    "       if i==1:\n",
    "              data = df.copy()\n",
    "       else:\n",
    "              data = data.append(df,ignore_index=True)\n",
    "\n",
    "\n",
    "    \n",
    "    \n"
   ]
  },
  {
   "cell_type": "markdown",
   "id": "473f5aa6",
   "metadata": {},
   "source": [
    "# EDA and Feature Engineering"
   ]
  },
  {
   "cell_type": "code",
   "execution_count": 3,
   "id": "79003163",
   "metadata": {},
   "outputs": [
    {
     "name": "stdout",
     "output_type": "stream",
     "text": [
      "Index(['uid', 'task_id', 'adv_id', 'creat_type_cd', 'adv_prim_id', 'dev_id',\n",
      "       'inter_type_cd', 'slot_id', 'spread_app_id', 'tags', 'app_first_class',\n",
      "       'app_second_class', 'city', 'device_name', 'career', 'gender',\n",
      "       'net_type', 'residence', 'up_membership_grade',\n",
      "       'communication_onlinerate', 'indu_name'],\n",
      "      dtype='object')\n"
     ]
    }
   ],
   "source": [
    "continous_cols = [\"age\",\"city_rank\",\"device_size\",\"his_app_size\",\"his_on_shelf_time\",\n",
    "                  \"app_score\",\"emui_dev\",\"list_time\",\"device_price\",\"up_life_duration\",\n",
    "                  \"membership_life_duration\",\"consume_purchase\",\"communication_avgonline_30d\",\"pt_d\"]\n",
    "categorical_cols = data.drop(columns = continous_cols).columns\n",
    "categorical_cols = categorical_cols[1:len(categorical_cols)]\n",
    "print(categorical_cols)"
   ]
  },
  {
   "cell_type": "code",
   "execution_count": 4,
   "id": "36e9cda1",
   "metadata": {},
   "outputs": [],
   "source": [
    "## Reduce number of classes \n",
    "\n",
    "task_counts = pd.DataFrame()\n",
    "for s in set(data[\"task_id\"]):\n",
    "    task_counts = task_counts.append({\"name\":s,\"count\":len(data[data[\"task_id\"]==s])},ignore_index = True)\n",
    "\n",
    "adv_counts = pd.DataFrame()\n",
    "for s in set(data[\"adv_id\"]):\n",
    "    adv_counts = adv_counts.append({\"name\":s,\"count\":len(data[data[\"adv_id\"]==s])},ignore_index = True)\n",
    "\n",
    "city_counts = pd.DataFrame()\n",
    "for s in set(data[\"city\"]):\n",
    "    city_counts = city_counts.append({\"name\":s,\"count\":len(data[data[\"city\"]==s])},ignore_index = True)\n",
    "\n",
    "## greater than 1 percent\n",
    "new_task_ids = list(task_counts[task_counts[\"count\"]>1200][\"name\"])\n",
    "new_adv_ids = list(adv_counts[adv_counts[\"count\"]>1200][\"name\"])\n",
    "new_city_ids = list(city_counts[city_counts[\"count\"]>1200][\"name\"])\n",
    "\n",
    "# transformed data\n",
    "tf_data = data.copy()\n",
    "\n",
    "def changeTaskid(row):\n",
    "    if row[\"task_id\"] in new_task_ids:\n",
    "        return new_task_ids[new_task_ids.index(row[\"task_id\"])]\n",
    "    else:\n",
    "        return 0\n",
    "\n",
    "def changeAdvid(row):\n",
    "    if row[\"adv_id\"] in new_adv_ids:\n",
    "        return new_adv_ids[new_adv_ids.index(row[\"adv_id\"])]\n",
    "    else:\n",
    "        return 0\n",
    "\n",
    "def changeCity(row):\n",
    "    if row[\"city\"] in new_city_ids:\n",
    "        return new_city_ids[new_city_ids.index(row[\"city\"])]\n",
    "    else:\n",
    "        return 0\n",
    "\n",
    "\n",
    "tf_data[\"task_id\"] = tf_data.apply(lambda x: changeTaskid(x),axis =1)\n",
    "tf_data[\"adv_id\"] = tf_data.apply(lambda x: changeAdvid(x),axis =1)\n",
    "tf_data[\"city\"] = tf_data.apply(lambda x: changeCity(x),axis =1)\n",
    "\n"
   ]
  },
  {
   "cell_type": "code",
   "execution_count": 5,
   "id": "79a77afe",
   "metadata": {},
   "outputs": [
    {
     "data": {
      "text/html": [
       "<div>\n",
       "<style scoped>\n",
       "    .dataframe tbody tr th:only-of-type {\n",
       "        vertical-align: middle;\n",
       "    }\n",
       "\n",
       "    .dataframe tbody tr th {\n",
       "        vertical-align: top;\n",
       "    }\n",
       "\n",
       "    .dataframe thead th {\n",
       "        text-align: right;\n",
       "    }\n",
       "</style>\n",
       "<table border=\"1\" class=\"dataframe\">\n",
       "  <thead>\n",
       "    <tr style=\"text-align: right;\">\n",
       "      <th></th>\n",
       "      <th>columns</th>\n",
       "      <th>Fvalue</th>\n",
       "      <th>Pvalue</th>\n",
       "    </tr>\n",
       "  </thead>\n",
       "  <tbody>\n",
       "    <tr>\n",
       "      <th>0</th>\n",
       "      <td>age</td>\n",
       "      <td>6.706499</td>\n",
       "      <td>9.607376e-03</td>\n",
       "    </tr>\n",
       "    <tr>\n",
       "      <th>1</th>\n",
       "      <td>city_rank</td>\n",
       "      <td>84.135320</td>\n",
       "      <td>4.690667e-20</td>\n",
       "    </tr>\n",
       "    <tr>\n",
       "      <th>2</th>\n",
       "      <td>device_size</td>\n",
       "      <td>6.784635</td>\n",
       "      <td>9.195714e-03</td>\n",
       "    </tr>\n",
       "    <tr>\n",
       "      <th>3</th>\n",
       "      <td>his_app_size</td>\n",
       "      <td>43.690087</td>\n",
       "      <td>3.863178e-11</td>\n",
       "    </tr>\n",
       "    <tr>\n",
       "      <th>4</th>\n",
       "      <td>his_on_shelf_time</td>\n",
       "      <td>252.363261</td>\n",
       "      <td>9.062241e-57</td>\n",
       "    </tr>\n",
       "    <tr>\n",
       "      <th>5</th>\n",
       "      <td>app_score</td>\n",
       "      <td>263.208685</td>\n",
       "      <td>3.964442e-59</td>\n",
       "    </tr>\n",
       "    <tr>\n",
       "      <th>6</th>\n",
       "      <td>emui_dev</td>\n",
       "      <td>54.427700</td>\n",
       "      <td>1.623081e-13</td>\n",
       "    </tr>\n",
       "    <tr>\n",
       "      <th>7</th>\n",
       "      <td>list_time</td>\n",
       "      <td>39.489462</td>\n",
       "      <td>3.309615e-10</td>\n",
       "    </tr>\n",
       "    <tr>\n",
       "      <th>8</th>\n",
       "      <td>device_price</td>\n",
       "      <td>403.871978</td>\n",
       "      <td>1.111849e-89</td>\n",
       "    </tr>\n",
       "    <tr>\n",
       "      <th>9</th>\n",
       "      <td>up_life_duration</td>\n",
       "      <td>114.964129</td>\n",
       "      <td>8.240898e-27</td>\n",
       "    </tr>\n",
       "    <tr>\n",
       "      <th>10</th>\n",
       "      <td>membership_life_duration</td>\n",
       "      <td>0.767379</td>\n",
       "      <td>3.810308e-01</td>\n",
       "    </tr>\n",
       "    <tr>\n",
       "      <th>11</th>\n",
       "      <td>consume_purchase</td>\n",
       "      <td>6.572079</td>\n",
       "      <td>1.036030e-02</td>\n",
       "    </tr>\n",
       "    <tr>\n",
       "      <th>12</th>\n",
       "      <td>communication_avgonline_30d</td>\n",
       "      <td>115.367634</td>\n",
       "      <td>6.724981e-27</td>\n",
       "    </tr>\n",
       "    <tr>\n",
       "      <th>13</th>\n",
       "      <td>pt_d</td>\n",
       "      <td>NaN</td>\n",
       "      <td>NaN</td>\n",
       "    </tr>\n",
       "  </tbody>\n",
       "</table>\n",
       "</div>"
      ],
      "text/plain": [
       "                        columns      Fvalue        Pvalue\n",
       "0                           age    6.706499  9.607376e-03\n",
       "1                     city_rank   84.135320  4.690667e-20\n",
       "2                   device_size    6.784635  9.195714e-03\n",
       "3                  his_app_size   43.690087  3.863178e-11\n",
       "4             his_on_shelf_time  252.363261  9.062241e-57\n",
       "5                     app_score  263.208685  3.964442e-59\n",
       "6                      emui_dev   54.427700  1.623081e-13\n",
       "7                     list_time   39.489462  3.309615e-10\n",
       "8                  device_price  403.871978  1.111849e-89\n",
       "9              up_life_duration  114.964129  8.240898e-27\n",
       "10     membership_life_duration    0.767379  3.810308e-01\n",
       "11             consume_purchase    6.572079  1.036030e-02\n",
       "12  communication_avgonline_30d  115.367634  6.724981e-27\n",
       "13                         pt_d         NaN           NaN"
      ]
     },
     "execution_count": 5,
     "metadata": {},
     "output_type": "execute_result"
    }
   ],
   "source": [
    "#ANOVA for continous variables\n",
    "\n",
    "alpha = 0.01\n",
    "f_values,p_values = f_classif(data[continous_cols], data[\"label\"])\n",
    "anova = pd.DataFrame()\n",
    "anova[\"columns\"] = continous_cols\n",
    "anova[\"Fvalue\"] = f_values\n",
    "anova[\"Pvalue\"] = p_values\n",
    "\n",
    "anova"
   ]
  },
  {
   "cell_type": "code",
   "execution_count": 6,
   "id": "7d0ae2b3",
   "metadata": {},
   "outputs": [
    {
     "data": {
      "text/plain": [
       "[{'uid': 96555},\n",
       " {'task_id': 1706},\n",
       " {'adv_id': 1903},\n",
       " {'creat_type_cd': 8},\n",
       " {'adv_prim_id': 76},\n",
       " {'dev_id': 40},\n",
       " {'inter_type_cd': 3},\n",
       " {'slot_id': 12},\n",
       " {'spread_app_id': 51},\n",
       " {'tags': 24},\n",
       " {'app_first_class': 3},\n",
       " {'app_second_class': 16},\n",
       " {'city': 342},\n",
       " {'device_name': 81},\n",
       " {'career': 9},\n",
       " {'gender': 3},\n",
       " {'net_type': 5},\n",
       " {'residence': 34},\n",
       " {'up_membership_grade': 4},\n",
       " {'communication_onlinerate': 249},\n",
       " {'indu_name': 30}]"
      ]
     },
     "execution_count": 6,
     "metadata": {},
     "output_type": "execute_result"
    }
   ],
   "source": [
    "Unique_values = []\n",
    "for c in categorical_cols:\n",
    "    Unique_values.append({c:len(set(data[c]))})\n",
    "Unique_values"
   ]
  },
  {
   "cell_type": "code",
   "execution_count": 7,
   "id": "5137f119",
   "metadata": {},
   "outputs": [
    {
     "data": {
      "text/plain": [
       "array([<AxesSubplot:title={'center':'0'}>,\n",
       "       <AxesSubplot:title={'center':'1'}>], dtype=object)"
      ]
     },
     "execution_count": 7,
     "metadata": {},
     "output_type": "execute_result"
    },
    {
     "data": {
      "image/png": "[encoded data removed]",
      "text/plain": [
       "<Figure size 432x288 with 2 Axes>"
      ]
     },
     "metadata": {
      "needs_background": "light"
     },
     "output_type": "display_data"
    }
   ],
   "source": [
    "data.hist(column = \"task_id\", by = \"label\")"
   ]
  },
  {
   "cell_type": "code",
   "execution_count": 8,
   "id": "a43144c0",
   "metadata": {},
   "outputs": [],
   "source": [
    "p_values = pd.DataFrame()\n",
    "\n",
    "for c in categorical_cols[1:len(categorical_cols)]:\n",
    "        \n",
    "    chisqt = pd.crosstab(data[\"label\"], data[c], margins=True)\n",
    "\n",
    "    value = np.array([chisqt.iloc[0][0:len(set(data[c]))+2].values,\n",
    "                      chisqt.iloc[1][0:len(set(data[c]))+2].values])\n",
    "    c = chi2_contingency(value)[0:3]\n",
    "    d = {\"statistic\":c[0],\"p-value\":c[1],\"dof\":c[2]}\n",
    "    p_values = p_values.append(d,ignore_index=True)\n",
    "\n"
   ]
  },
  {
   "cell_type": "code",
   "execution_count": 9,
   "id": "05c3ddc6",
   "metadata": {},
   "outputs": [
    {
     "data": {
      "text/plain": [
       "[1.158722434037086e-236,\n",
       " 1.759287811564292e-218,\n",
       " 4.683389453076715e-197,\n",
       " 5.069315711438875e-174,\n",
       " 1.900356961275527e-153,\n",
       " 1.2800085973583214e-142,\n",
       " 1.8773738863968934e-102,\n",
       " 5.8356706521606504e-83,\n",
       " 2.0119303388561998e-81,\n",
       " 1.2640605258330174e-66,\n",
       " 6.0086668512371225e-62,\n",
       " 2.1025252251812127e-45,\n",
       " 3.377174239234506e-43,\n",
       " 8.603012163865856e-38,\n",
       " 1.2428801034957e-35,\n",
       " 7.592211843030495e-29,\n",
       " 3.3322087820927984e-12,\n",
       " 1.4127498226159466e-11,\n",
       " 0.00010144018940554694,\n",
       " 0.006010611904369958]"
      ]
     },
     "execution_count": 9,
     "metadata": {},
     "output_type": "execute_result"
    }
   ],
   "source": [
    "p_values[\"column\"] = categorical_cols[1:len(categorical_cols)]\n",
    "sorted(p_values[\"p-value\"])"
   ]
  },
  {
   "cell_type": "code",
   "execution_count": 10,
   "id": "4e64d555",
   "metadata": {},
   "outputs": [
    {
     "data": {
      "text/plain": [
       "0              task_id\n",
       "1               adv_id\n",
       "3          adv_prim_id\n",
       "4               dev_id\n",
       "6              slot_id\n",
       "7        spread_app_id\n",
       "8                 tags\n",
       "9      app_first_class\n",
       "10    app_second_class\n",
       "12         device_name\n",
       "19           indu_name\n",
       "Name: column, dtype: object"
      ]
     },
     "execution_count": 10,
     "metadata": {},
     "output_type": "execute_result"
    }
   ],
   "source": [
    "p_values[p_values[\"p-value\"]<=sorted(p_values[\"p-value\"])[10]][\"column\"]"
   ]
  },
  {
   "cell_type": "code",
   "execution_count": 11,
   "id": "cc7f3611",
   "metadata": {},
   "outputs": [
    {
     "data": {
      "text/plain": [
       "array([<AxesSubplot:title={'center':'0'}>,\n",
       "       <AxesSubplot:title={'center':'1'}>], dtype=object)"
      ]
     },
     "execution_count": 11,
     "metadata": {},
     "output_type": "execute_result"
    },
    {
     "data": {
      "image/png": "[encoded data removed]",
      "text/plain": [
       "<Figure size 432x288 with 2 Axes>"
      ]
     },
     "metadata": {
      "needs_background": "light"
     },
     "output_type": "display_data"
    }
   ],
   "source": [
    "data.hist(\"indu_name\",\"label\")"
   ]
  },
  {
   "cell_type": "code",
   "execution_count": 12,
   "id": "11b7ece3",
   "metadata": {},
   "outputs": [],
   "source": [
    "encoded_data = pd.get_dummies(tf_data, columns = ['task_id', 'adv_id', 'creat_type_cd', 'adv_prim_id',\n",
    "       'dev_id', 'inter_type_cd', 'slot_id', 'spread_app_id', 'tags',\n",
    "       'app_first_class', 'app_second_class', 'city', 'device_name', 'career',\n",
    "       'gender', 'net_type', 'residence', 'up_membership_grade',\n",
    "        'indu_name'])\n",
    "\n",
    "\n",
    "\n"
   ]
  },
  {
   "cell_type": "code",
   "execution_count": 13,
   "id": "d9970fb1",
   "metadata": {},
   "outputs": [],
   "source": [
    "\n",
    "X = encoded_data.drop(columns = [\"label\"])\n",
    "y = encoded_data[\"label\"]\n",
    "X_train, X_test, y_train, y_test = train_test_split(X, y, test_size=0.2, random_state=42)"
   ]
  },
  {
   "cell_type": "code",
   "execution_count": 14,
   "id": "c7e89de1",
   "metadata": {},
   "outputs": [
    {
     "data": {
      "text/html": [
       "<div>\n",
       "<style scoped>\n",
       "    .dataframe tbody tr th:only-of-type {\n",
       "        vertical-align: middle;\n",
       "    }\n",
       "\n",
       "    .dataframe tbody tr th {\n",
       "        vertical-align: top;\n",
       "    }\n",
       "\n",
       "    .dataframe thead th {\n",
       "        text-align: right;\n",
       "    }\n",
       "</style>\n",
       "<table border=\"1\" class=\"dataframe\">\n",
       "  <thead>\n",
       "    <tr style=\"text-align: right;\">\n",
       "      <th></th>\n",
       "      <th>uid</th>\n",
       "      <th>age</th>\n",
       "      <th>city_rank</th>\n",
       "      <th>device_size</th>\n",
       "      <th>his_app_size</th>\n",
       "      <th>his_on_shelf_time</th>\n",
       "      <th>app_score</th>\n",
       "      <th>emui_dev</th>\n",
       "      <th>list_time</th>\n",
       "      <th>device_price</th>\n",
       "      <th>...</th>\n",
       "      <th>indu_name_37</th>\n",
       "      <th>indu_name_38</th>\n",
       "      <th>indu_name_39</th>\n",
       "      <th>indu_name_42</th>\n",
       "      <th>indu_name_45</th>\n",
       "      <th>indu_name_46</th>\n",
       "      <th>indu_name_47</th>\n",
       "      <th>indu_name_50</th>\n",
       "      <th>indu_name_51</th>\n",
       "      <th>indu_name_52</th>\n",
       "    </tr>\n",
       "  </thead>\n",
       "  <tbody>\n",
       "    <tr>\n",
       "      <th>count</th>\n",
       "      <td>9.600000e+04</td>\n",
       "      <td>96000.000000</td>\n",
       "      <td>96000.000000</td>\n",
       "      <td>96000.000000</td>\n",
       "      <td>96000.000000</td>\n",
       "      <td>96000.000000</td>\n",
       "      <td>96000.000000</td>\n",
       "      <td>96000.000000</td>\n",
       "      <td>96000.000000</td>\n",
       "      <td>96000.000</td>\n",
       "      <td>...</td>\n",
       "      <td>96000.000000</td>\n",
       "      <td>96000.000000</td>\n",
       "      <td>96000.000000</td>\n",
       "      <td>96000.000000</td>\n",
       "      <td>96000.000000</td>\n",
       "      <td>96000.000000</td>\n",
       "      <td>96000.000000</td>\n",
       "      <td>96000.000000</td>\n",
       "      <td>96000.000000</td>\n",
       "      <td>96000.000000</td>\n",
       "    </tr>\n",
       "    <tr>\n",
       "      <th>mean</th>\n",
       "      <td>1.615853e+06</td>\n",
       "      <td>4.670333</td>\n",
       "      <td>3.851281</td>\n",
       "      <td>158.426146</td>\n",
       "      <td>6.302479</td>\n",
       "      <td>1.922187</td>\n",
       "      <td>1.785604</td>\n",
       "      <td>19.192635</td>\n",
       "      <td>9.127646</td>\n",
       "      <td>3.491</td>\n",
       "      <td>...</td>\n",
       "      <td>0.002698</td>\n",
       "      <td>0.020771</td>\n",
       "      <td>0.003323</td>\n",
       "      <td>0.119969</td>\n",
       "      <td>0.000573</td>\n",
       "      <td>0.007833</td>\n",
       "      <td>0.028167</td>\n",
       "      <td>0.008500</td>\n",
       "      <td>0.012094</td>\n",
       "      <td>0.005844</td>\n",
       "    </tr>\n",
       "    <tr>\n",
       "      <th>std</th>\n",
       "      <td>3.575122e+05</td>\n",
       "      <td>1.835183</td>\n",
       "      <td>0.908768</td>\n",
       "      <td>45.320230</td>\n",
       "      <td>5.640946</td>\n",
       "      <td>1.577865</td>\n",
       "      <td>0.410405</td>\n",
       "      <td>4.492133</td>\n",
       "      <td>3.627073</td>\n",
       "      <td>1.165</td>\n",
       "      <td>...</td>\n",
       "      <td>0.051872</td>\n",
       "      <td>0.142617</td>\n",
       "      <td>0.057549</td>\n",
       "      <td>0.324927</td>\n",
       "      <td>0.023929</td>\n",
       "      <td>0.088159</td>\n",
       "      <td>0.165450</td>\n",
       "      <td>0.091803</td>\n",
       "      <td>0.109305</td>\n",
       "      <td>0.076221</td>\n",
       "    </tr>\n",
       "    <tr>\n",
       "      <th>min</th>\n",
       "      <td>1.000014e+06</td>\n",
       "      <td>-1.000000</td>\n",
       "      <td>2.000000</td>\n",
       "      <td>103.000000</td>\n",
       "      <td>-1.000000</td>\n",
       "      <td>-1.000000</td>\n",
       "      <td>1.000000</td>\n",
       "      <td>11.000000</td>\n",
       "      <td>-2.000000</td>\n",
       "      <td>-1.000</td>\n",
       "      <td>...</td>\n",
       "      <td>0.000000</td>\n",
       "      <td>0.000000</td>\n",
       "      <td>0.000000</td>\n",
       "      <td>0.000000</td>\n",
       "      <td>0.000000</td>\n",
       "      <td>0.000000</td>\n",
       "      <td>0.000000</td>\n",
       "      <td>0.000000</td>\n",
       "      <td>0.000000</td>\n",
       "      <td>0.000000</td>\n",
       "    </tr>\n",
       "    <tr>\n",
       "      <th>25%</th>\n",
       "      <td>1.306001e+06</td>\n",
       "      <td>4.000000</td>\n",
       "      <td>3.000000</td>\n",
       "      <td>141.000000</td>\n",
       "      <td>4.000000</td>\n",
       "      <td>2.000000</td>\n",
       "      <td>2.000000</td>\n",
       "      <td>14.000000</td>\n",
       "      <td>7.000000</td>\n",
       "      <td>3.000</td>\n",
       "      <td>...</td>\n",
       "      <td>0.000000</td>\n",
       "      <td>0.000000</td>\n",
       "      <td>0.000000</td>\n",
       "      <td>0.000000</td>\n",
       "      <td>0.000000</td>\n",
       "      <td>0.000000</td>\n",
       "      <td>0.000000</td>\n",
       "      <td>0.000000</td>\n",
       "      <td>0.000000</td>\n",
       "      <td>0.000000</td>\n",
       "    </tr>\n",
       "    <tr>\n",
       "      <th>50%</th>\n",
       "      <td>1.613386e+06</td>\n",
       "      <td>5.000000</td>\n",
       "      <td>4.000000</td>\n",
       "      <td>141.000000</td>\n",
       "      <td>5.000000</td>\n",
       "      <td>3.000000</td>\n",
       "      <td>2.000000</td>\n",
       "      <td>20.000000</td>\n",
       "      <td>9.000000</td>\n",
       "      <td>4.000</td>\n",
       "      <td>...</td>\n",
       "      <td>0.000000</td>\n",
       "      <td>0.000000</td>\n",
       "      <td>0.000000</td>\n",
       "      <td>0.000000</td>\n",
       "      <td>0.000000</td>\n",
       "      <td>0.000000</td>\n",
       "      <td>0.000000</td>\n",
       "      <td>0.000000</td>\n",
       "      <td>0.000000</td>\n",
       "      <td>0.000000</td>\n",
       "    </tr>\n",
       "    <tr>\n",
       "      <th>75%</th>\n",
       "      <td>1.925308e+06</td>\n",
       "      <td>6.000000</td>\n",
       "      <td>5.000000</td>\n",
       "      <td>162.000000</td>\n",
       "      <td>11.000000</td>\n",
       "      <td>3.000000</td>\n",
       "      <td>2.000000</td>\n",
       "      <td>20.000000</td>\n",
       "      <td>12.000000</td>\n",
       "      <td>4.000</td>\n",
       "      <td>...</td>\n",
       "      <td>0.000000</td>\n",
       "      <td>0.000000</td>\n",
       "      <td>0.000000</td>\n",
       "      <td>0.000000</td>\n",
       "      <td>0.000000</td>\n",
       "      <td>0.000000</td>\n",
       "      <td>0.000000</td>\n",
       "      <td>0.000000</td>\n",
       "      <td>0.000000</td>\n",
       "      <td>0.000000</td>\n",
       "    </tr>\n",
       "    <tr>\n",
       "      <th>max</th>\n",
       "      <td>2.237671e+06</td>\n",
       "      <td>7.000000</td>\n",
       "      <td>5.000000</td>\n",
       "      <td>349.000000</td>\n",
       "      <td>21.000000</td>\n",
       "      <td>3.000000</td>\n",
       "      <td>2.000000</td>\n",
       "      <td>28.000000</td>\n",
       "      <td>17.000000</td>\n",
       "      <td>7.000</td>\n",
       "      <td>...</td>\n",
       "      <td>1.000000</td>\n",
       "      <td>1.000000</td>\n",
       "      <td>1.000000</td>\n",
       "      <td>1.000000</td>\n",
       "      <td>1.000000</td>\n",
       "      <td>1.000000</td>\n",
       "      <td>1.000000</td>\n",
       "      <td>1.000000</td>\n",
       "      <td>1.000000</td>\n",
       "      <td>1.000000</td>\n",
       "    </tr>\n",
       "  </tbody>\n",
       "</table>\n",
       "<p>8 rows × 461 columns</p>\n",
       "</div>"
      ],
      "text/plain": [
       "                uid           age     city_rank   device_size  his_app_size  \\\n",
       "count  9.600000e+04  96000.000000  96000.000000  96000.000000  96000.000000   \n",
       "mean   1.615853e+06      4.670333      3.851281    158.426146      6.302479   \n",
       "std    3.575122e+05      1.835183      0.908768     45.320230      5.640946   \n",
       "min    1.000014e+06     -1.000000      2.000000    103.000000     -1.000000   \n",
       "25%    1.306001e+06      4.000000      3.000000    141.000000      4.000000   \n",
       "50%    1.613386e+06      5.000000      4.000000    141.000000      5.000000   \n",
       "75%    1.925308e+06      6.000000      5.000000    162.000000     11.000000   \n",
       "max    2.237671e+06      7.000000      5.000000    349.000000     21.000000   \n",
       "\n",
       "       his_on_shelf_time     app_score      emui_dev     list_time  \\\n",
       "count       96000.000000  96000.000000  96000.000000  96000.000000   \n",
       "mean            1.922187      1.785604     19.192635      9.127646   \n",
       "std             1.577865      0.410405      4.492133      3.627073   \n",
       "min            -1.000000      1.000000     11.000000     -2.000000   \n",
       "25%             2.000000      2.000000     14.000000      7.000000   \n",
       "50%             3.000000      2.000000     20.000000      9.000000   \n",
       "75%             3.000000      2.000000     20.000000     12.000000   \n",
       "max             3.000000      2.000000     28.000000     17.000000   \n",
       "\n",
       "       device_price  ...  indu_name_37  indu_name_38  indu_name_39  \\\n",
       "count     96000.000  ...  96000.000000  96000.000000  96000.000000   \n",
       "mean          3.491  ...      0.002698      0.020771      0.003323   \n",
       "std           1.165  ...      0.051872      0.142617      0.057549   \n",
       "min          -1.000  ...      0.000000      0.000000      0.000000   \n",
       "25%           3.000  ...      0.000000      0.000000      0.000000   \n",
       "50%           4.000  ...      0.000000      0.000000      0.000000   \n",
       "75%           4.000  ...      0.000000      0.000000      0.000000   \n",
       "max           7.000  ...      1.000000      1.000000      1.000000   \n",
       "\n",
       "       indu_name_42  indu_name_45  indu_name_46  indu_name_47  indu_name_50  \\\n",
       "count  96000.000000  96000.000000  96000.000000  96000.000000  96000.000000   \n",
       "mean       0.119969      0.000573      0.007833      0.028167      0.008500   \n",
       "std        0.324927      0.023929      0.088159      0.165450      0.091803   \n",
       "min        0.000000      0.000000      0.000000      0.000000      0.000000   \n",
       "25%        0.000000      0.000000      0.000000      0.000000      0.000000   \n",
       "50%        0.000000      0.000000      0.000000      0.000000      0.000000   \n",
       "75%        0.000000      0.000000      0.000000      0.000000      0.000000   \n",
       "max        1.000000      1.000000      1.000000      1.000000      1.000000   \n",
       "\n",
       "       indu_name_51  indu_name_52  \n",
       "count  96000.000000  96000.000000  \n",
       "mean       0.012094      0.005844  \n",
       "std        0.109305      0.076221  \n",
       "min        0.000000      0.000000  \n",
       "25%        0.000000      0.000000  \n",
       "50%        0.000000      0.000000  \n",
       "75%        0.000000      0.000000  \n",
       "max        1.000000      1.000000  \n",
       "\n",
       "[8 rows x 461 columns]"
      ]
     },
     "execution_count": 14,
     "metadata": {},
     "output_type": "execute_result"
    }
   ],
   "source": [
    "X_train.describe()"
   ]
  },
  {
   "cell_type": "code",
   "execution_count": 15,
   "id": "fc6ec1ad",
   "metadata": {},
   "outputs": [
    {
     "data": {
      "text/html": [
       "<div>\n",
       "<style scoped>\n",
       "    .dataframe tbody tr th:only-of-type {\n",
       "        vertical-align: middle;\n",
       "    }\n",
       "\n",
       "    .dataframe tbody tr th {\n",
       "        vertical-align: top;\n",
       "    }\n",
       "\n",
       "    .dataframe thead th {\n",
       "        text-align: right;\n",
       "    }\n",
       "</style>\n",
       "<table border=\"1\" class=\"dataframe\">\n",
       "  <thead>\n",
       "    <tr style=\"text-align: right;\">\n",
       "      <th></th>\n",
       "      <th>uid</th>\n",
       "      <th>age</th>\n",
       "      <th>city_rank</th>\n",
       "      <th>device_size</th>\n",
       "      <th>his_app_size</th>\n",
       "      <th>his_on_shelf_time</th>\n",
       "      <th>app_score</th>\n",
       "      <th>emui_dev</th>\n",
       "      <th>list_time</th>\n",
       "      <th>device_price</th>\n",
       "      <th>...</th>\n",
       "      <th>indu_name_37</th>\n",
       "      <th>indu_name_38</th>\n",
       "      <th>indu_name_39</th>\n",
       "      <th>indu_name_42</th>\n",
       "      <th>indu_name_45</th>\n",
       "      <th>indu_name_46</th>\n",
       "      <th>indu_name_47</th>\n",
       "      <th>indu_name_50</th>\n",
       "      <th>indu_name_51</th>\n",
       "      <th>indu_name_52</th>\n",
       "    </tr>\n",
       "  </thead>\n",
       "  <tbody>\n",
       "    <tr>\n",
       "      <th>53541</th>\n",
       "      <td>2160975</td>\n",
       "      <td>6</td>\n",
       "      <td>3</td>\n",
       "      <td>156</td>\n",
       "      <td>16</td>\n",
       "      <td>3</td>\n",
       "      <td>2</td>\n",
       "      <td>14</td>\n",
       "      <td>6</td>\n",
       "      <td>1</td>\n",
       "      <td>...</td>\n",
       "      <td>0</td>\n",
       "      <td>0</td>\n",
       "      <td>0</td>\n",
       "      <td>0</td>\n",
       "      <td>0</td>\n",
       "      <td>0</td>\n",
       "      <td>0</td>\n",
       "      <td>0</td>\n",
       "      <td>0</td>\n",
       "      <td>0</td>\n",
       "    </tr>\n",
       "    <tr>\n",
       "      <th>41728</th>\n",
       "      <td>2074216</td>\n",
       "      <td>7</td>\n",
       "      <td>5</td>\n",
       "      <td>141</td>\n",
       "      <td>4</td>\n",
       "      <td>2</td>\n",
       "      <td>2</td>\n",
       "      <td>14</td>\n",
       "      <td>13</td>\n",
       "      <td>2</td>\n",
       "      <td>...</td>\n",
       "      <td>0</td>\n",
       "      <td>0</td>\n",
       "      <td>0</td>\n",
       "      <td>0</td>\n",
       "      <td>0</td>\n",
       "      <td>0</td>\n",
       "      <td>0</td>\n",
       "      <td>0</td>\n",
       "      <td>0</td>\n",
       "      <td>0</td>\n",
       "    </tr>\n",
       "    <tr>\n",
       "      <th>74819</th>\n",
       "      <td>1745798</td>\n",
       "      <td>7</td>\n",
       "      <td>3</td>\n",
       "      <td>156</td>\n",
       "      <td>13</td>\n",
       "      <td>3</td>\n",
       "      <td>2</td>\n",
       "      <td>14</td>\n",
       "      <td>7</td>\n",
       "      <td>1</td>\n",
       "      <td>...</td>\n",
       "      <td>0</td>\n",
       "      <td>0</td>\n",
       "      <td>0</td>\n",
       "      <td>0</td>\n",
       "      <td>0</td>\n",
       "      <td>0</td>\n",
       "      <td>0</td>\n",
       "      <td>0</td>\n",
       "      <td>0</td>\n",
       "      <td>0</td>\n",
       "    </tr>\n",
       "    <tr>\n",
       "      <th>106459</th>\n",
       "      <td>2090546</td>\n",
       "      <td>2</td>\n",
       "      <td>4</td>\n",
       "      <td>193</td>\n",
       "      <td>2</td>\n",
       "      <td>3</td>\n",
       "      <td>2</td>\n",
       "      <td>14</td>\n",
       "      <td>13</td>\n",
       "      <td>2</td>\n",
       "      <td>...</td>\n",
       "      <td>0</td>\n",
       "      <td>0</td>\n",
       "      <td>0</td>\n",
       "      <td>0</td>\n",
       "      <td>0</td>\n",
       "      <td>0</td>\n",
       "      <td>0</td>\n",
       "      <td>0</td>\n",
       "      <td>0</td>\n",
       "      <td>0</td>\n",
       "    </tr>\n",
       "    <tr>\n",
       "      <th>63062</th>\n",
       "      <td>1576879</td>\n",
       "      <td>4</td>\n",
       "      <td>3</td>\n",
       "      <td>217</td>\n",
       "      <td>-1</td>\n",
       "      <td>-1</td>\n",
       "      <td>1</td>\n",
       "      <td>20</td>\n",
       "      <td>4</td>\n",
       "      <td>4</td>\n",
       "      <td>...</td>\n",
       "      <td>0</td>\n",
       "      <td>0</td>\n",
       "      <td>0</td>\n",
       "      <td>0</td>\n",
       "      <td>0</td>\n",
       "      <td>0</td>\n",
       "      <td>1</td>\n",
       "      <td>0</td>\n",
       "      <td>0</td>\n",
       "      <td>0</td>\n",
       "    </tr>\n",
       "    <tr>\n",
       "      <th>...</th>\n",
       "      <td>...</td>\n",
       "      <td>...</td>\n",
       "      <td>...</td>\n",
       "      <td>...</td>\n",
       "      <td>...</td>\n",
       "      <td>...</td>\n",
       "      <td>...</td>\n",
       "      <td>...</td>\n",
       "      <td>...</td>\n",
       "      <td>...</td>\n",
       "      <td>...</td>\n",
       "      <td>...</td>\n",
       "      <td>...</td>\n",
       "      <td>...</td>\n",
       "      <td>...</td>\n",
       "      <td>...</td>\n",
       "      <td>...</td>\n",
       "      <td>...</td>\n",
       "      <td>...</td>\n",
       "      <td>...</td>\n",
       "      <td>...</td>\n",
       "    </tr>\n",
       "    <tr>\n",
       "      <th>110268</th>\n",
       "      <td>1551660</td>\n",
       "      <td>6</td>\n",
       "      <td>3</td>\n",
       "      <td>156</td>\n",
       "      <td>9</td>\n",
       "      <td>3</td>\n",
       "      <td>2</td>\n",
       "      <td>14</td>\n",
       "      <td>6</td>\n",
       "      <td>1</td>\n",
       "      <td>...</td>\n",
       "      <td>0</td>\n",
       "      <td>0</td>\n",
       "      <td>0</td>\n",
       "      <td>0</td>\n",
       "      <td>0</td>\n",
       "      <td>0</td>\n",
       "      <td>0</td>\n",
       "      <td>0</td>\n",
       "      <td>0</td>\n",
       "      <td>0</td>\n",
       "    </tr>\n",
       "    <tr>\n",
       "      <th>119879</th>\n",
       "      <td>1147391</td>\n",
       "      <td>2</td>\n",
       "      <td>5</td>\n",
       "      <td>193</td>\n",
       "      <td>9</td>\n",
       "      <td>3</td>\n",
       "      <td>2</td>\n",
       "      <td>17</td>\n",
       "      <td>14</td>\n",
       "      <td>4</td>\n",
       "      <td>...</td>\n",
       "      <td>0</td>\n",
       "      <td>0</td>\n",
       "      <td>0</td>\n",
       "      <td>0</td>\n",
       "      <td>0</td>\n",
       "      <td>0</td>\n",
       "      <td>0</td>\n",
       "      <td>0</td>\n",
       "      <td>0</td>\n",
       "      <td>0</td>\n",
       "    </tr>\n",
       "    <tr>\n",
       "      <th>103694</th>\n",
       "      <td>1296799</td>\n",
       "      <td>5</td>\n",
       "      <td>4</td>\n",
       "      <td>141</td>\n",
       "      <td>11</td>\n",
       "      <td>2</td>\n",
       "      <td>2</td>\n",
       "      <td>20</td>\n",
       "      <td>4</td>\n",
       "      <td>5</td>\n",
       "      <td>...</td>\n",
       "      <td>0</td>\n",
       "      <td>0</td>\n",
       "      <td>0</td>\n",
       "      <td>0</td>\n",
       "      <td>0</td>\n",
       "      <td>0</td>\n",
       "      <td>0</td>\n",
       "      <td>0</td>\n",
       "      <td>0</td>\n",
       "      <td>0</td>\n",
       "    </tr>\n",
       "    <tr>\n",
       "      <th>860</th>\n",
       "      <td>1892045</td>\n",
       "      <td>-1</td>\n",
       "      <td>2</td>\n",
       "      <td>218</td>\n",
       "      <td>-1</td>\n",
       "      <td>-1</td>\n",
       "      <td>1</td>\n",
       "      <td>14</td>\n",
       "      <td>-1</td>\n",
       "      <td>-1</td>\n",
       "      <td>...</td>\n",
       "      <td>0</td>\n",
       "      <td>0</td>\n",
       "      <td>0</td>\n",
       "      <td>0</td>\n",
       "      <td>0</td>\n",
       "      <td>0</td>\n",
       "      <td>0</td>\n",
       "      <td>0</td>\n",
       "      <td>0</td>\n",
       "      <td>0</td>\n",
       "    </tr>\n",
       "    <tr>\n",
       "      <th>15795</th>\n",
       "      <td>1583292</td>\n",
       "      <td>6</td>\n",
       "      <td>3</td>\n",
       "      <td>117</td>\n",
       "      <td>5</td>\n",
       "      <td>3</td>\n",
       "      <td>2</td>\n",
       "      <td>14</td>\n",
       "      <td>9</td>\n",
       "      <td>3</td>\n",
       "      <td>...</td>\n",
       "      <td>0</td>\n",
       "      <td>0</td>\n",
       "      <td>0</td>\n",
       "      <td>1</td>\n",
       "      <td>0</td>\n",
       "      <td>0</td>\n",
       "      <td>0</td>\n",
       "      <td>0</td>\n",
       "      <td>0</td>\n",
       "      <td>0</td>\n",
       "    </tr>\n",
       "  </tbody>\n",
       "</table>\n",
       "<p>96000 rows × 462 columns</p>\n",
       "</div>"
      ],
      "text/plain": [
       "            uid  age  city_rank  device_size  his_app_size  his_on_shelf_time  \\\n",
       "53541   2160975    6          3          156            16                  3   \n",
       "41728   2074216    7          5          141             4                  2   \n",
       "74819   1745798    7          3          156            13                  3   \n",
       "106459  2090546    2          4          193             2                  3   \n",
       "63062   1576879    4          3          217            -1                 -1   \n",
       "...         ...  ...        ...          ...           ...                ...   \n",
       "110268  1551660    6          3          156             9                  3   \n",
       "119879  1147391    2          5          193             9                  3   \n",
       "103694  1296799    5          4          141            11                  2   \n",
       "860     1892045   -1          2          218            -1                 -1   \n",
       "15795   1583292    6          3          117             5                  3   \n",
       "\n",
       "        app_score  emui_dev  list_time  device_price  ...  indu_name_37  \\\n",
       "53541           2        14          6             1  ...             0   \n",
       "41728           2        14         13             2  ...             0   \n",
       "74819           2        14          7             1  ...             0   \n",
       "106459          2        14         13             2  ...             0   \n",
       "63062           1        20          4             4  ...             0   \n",
       "...           ...       ...        ...           ...  ...           ...   \n",
       "110268          2        14          6             1  ...             0   \n",
       "119879          2        17         14             4  ...             0   \n",
       "103694          2        20          4             5  ...             0   \n",
       "860             1        14         -1            -1  ...             0   \n",
       "15795           2        14          9             3  ...             0   \n",
       "\n",
       "        indu_name_38  indu_name_39 indu_name_42  indu_name_45  indu_name_46  \\\n",
       "53541              0             0            0             0             0   \n",
       "41728              0             0            0             0             0   \n",
       "74819              0             0            0             0             0   \n",
       "106459             0             0            0             0             0   \n",
       "63062              0             0            0             0             0   \n",
       "...              ...           ...          ...           ...           ...   \n",
       "110268             0             0            0             0             0   \n",
       "119879             0             0            0             0             0   \n",
       "103694             0             0            0             0             0   \n",
       "860                0             0            0             0             0   \n",
       "15795              0             0            1             0             0   \n",
       "\n",
       "        indu_name_47  indu_name_50  indu_name_51  indu_name_52  \n",
       "53541              0             0             0             0  \n",
       "41728              0             0             0             0  \n",
       "74819              0             0             0             0  \n",
       "106459             0             0             0             0  \n",
       "63062              1             0             0             0  \n",
       "...              ...           ...           ...           ...  \n",
       "110268             0             0             0             0  \n",
       "119879             0             0             0             0  \n",
       "103694             0             0             0             0  \n",
       "860                0             0             0             0  \n",
       "15795              0             0             0             0  \n",
       "\n",
       "[96000 rows x 462 columns]"
      ]
     },
     "execution_count": 15,
     "metadata": {},
     "output_type": "execute_result"
    }
   ],
   "source": [
    "X_train"
   ]
  },
  {
   "cell_type": "code",
   "execution_count": 16,
   "id": "d2d5822c",
   "metadata": {
    "scrolled": true
   },
   "outputs": [
    {
     "data": {
      "text/plain": [
       "462"
      ]
     },
     "execution_count": 16,
     "metadata": {},
     "output_type": "execute_result"
    }
   ],
   "source": [
    "len(X_train.columns)"
   ]
  },
  {
   "cell_type": "code",
   "execution_count": 17,
   "id": "dbe6a294",
   "metadata": {},
   "outputs": [
    {
     "data": {
      "text/plain": [
       "<AxesSubplot:>"
      ]
     },
     "execution_count": 17,
     "metadata": {},
     "output_type": "execute_result"
    },
    {
     "data": {
      "image/png": "[encoded data removed]",
      "text/plain": [
       "<Figure size 432x288 with 2 Axes>"
      ]
     },
     "metadata": {
      "needs_background": "light"
     },
     "output_type": "display_data"
    }
   ],
   "source": [
    "sns.heatmap(X_train[continous_cols].corr())"
   ]
  },
  {
   "cell_type": "code",
   "execution_count": 18,
   "id": "94f091a9",
   "metadata": {},
   "outputs": [
    {
     "data": {
      "text/html": [
       "<div>\n",
       "<style scoped>\n",
       "    .dataframe tbody tr th:only-of-type {\n",
       "        vertical-align: middle;\n",
       "    }\n",
       "\n",
       "    .dataframe tbody tr th {\n",
       "        vertical-align: top;\n",
       "    }\n",
       "\n",
       "    .dataframe thead th {\n",
       "        text-align: right;\n",
       "    }\n",
       "</style>\n",
       "<table border=\"1\" class=\"dataframe\">\n",
       "  <thead>\n",
       "    <tr style=\"text-align: right;\">\n",
       "      <th></th>\n",
       "      <th>age</th>\n",
       "      <th>city_rank</th>\n",
       "      <th>device_size</th>\n",
       "      <th>his_app_size</th>\n",
       "      <th>his_on_shelf_time</th>\n",
       "      <th>app_score</th>\n",
       "      <th>emui_dev</th>\n",
       "      <th>list_time</th>\n",
       "      <th>device_price</th>\n",
       "      <th>up_life_duration</th>\n",
       "      <th>membership_life_duration</th>\n",
       "      <th>consume_purchase</th>\n",
       "      <th>communication_avgonline_30d</th>\n",
       "      <th>pt_d</th>\n",
       "    </tr>\n",
       "  </thead>\n",
       "  <tbody>\n",
       "    <tr>\n",
       "      <th>age</th>\n",
       "      <td>1.000000</td>\n",
       "      <td>0.066878</td>\n",
       "      <td>-0.085977</td>\n",
       "      <td>0.016581</td>\n",
       "      <td>-0.008809</td>\n",
       "      <td>-0.002755</td>\n",
       "      <td>-0.000813</td>\n",
       "      <td>-0.238374</td>\n",
       "      <td>0.096851</td>\n",
       "      <td>0.060507</td>\n",
       "      <td>0.000901</td>\n",
       "      <td>-0.032609</td>\n",
       "      <td>0.165032</td>\n",
       "      <td>NaN</td>\n",
       "    </tr>\n",
       "    <tr>\n",
       "      <th>city_rank</th>\n",
       "      <td>0.066878</td>\n",
       "      <td>1.000000</td>\n",
       "      <td>0.024521</td>\n",
       "      <td>-0.021916</td>\n",
       "      <td>-0.069906</td>\n",
       "      <td>-0.065493</td>\n",
       "      <td>0.050223</td>\n",
       "      <td>-0.013212</td>\n",
       "      <td>0.152929</td>\n",
       "      <td>0.070751</td>\n",
       "      <td>0.000727</td>\n",
       "      <td>0.030281</td>\n",
       "      <td>0.053052</td>\n",
       "      <td>NaN</td>\n",
       "    </tr>\n",
       "    <tr>\n",
       "      <th>device_size</th>\n",
       "      <td>-0.085977</td>\n",
       "      <td>0.024521</td>\n",
       "      <td>1.000000</td>\n",
       "      <td>0.004201</td>\n",
       "      <td>-0.017377</td>\n",
       "      <td>-0.020616</td>\n",
       "      <td>0.091268</td>\n",
       "      <td>0.315244</td>\n",
       "      <td>0.142653</td>\n",
       "      <td>-0.011437</td>\n",
       "      <td>-0.002791</td>\n",
       "      <td>0.012408</td>\n",
       "      <td>-0.052767</td>\n",
       "      <td>NaN</td>\n",
       "    </tr>\n",
       "    <tr>\n",
       "      <th>his_app_size</th>\n",
       "      <td>0.016581</td>\n",
       "      <td>-0.021916</td>\n",
       "      <td>0.004201</td>\n",
       "      <td>1.000000</td>\n",
       "      <td>0.674449</td>\n",
       "      <td>0.676281</td>\n",
       "      <td>-0.020326</td>\n",
       "      <td>0.012785</td>\n",
       "      <td>-0.038682</td>\n",
       "      <td>-0.009515</td>\n",
       "      <td>0.001855</td>\n",
       "      <td>-0.006060</td>\n",
       "      <td>0.000678</td>\n",
       "      <td>NaN</td>\n",
       "    </tr>\n",
       "    <tr>\n",
       "      <th>his_on_shelf_time</th>\n",
       "      <td>-0.008809</td>\n",
       "      <td>-0.069906</td>\n",
       "      <td>-0.017377</td>\n",
       "      <td>0.674449</td>\n",
       "      <td>1.000000</td>\n",
       "      <td>0.967491</td>\n",
       "      <td>-0.058342</td>\n",
       "      <td>0.037711</td>\n",
       "      <td>-0.136860</td>\n",
       "      <td>-0.063767</td>\n",
       "      <td>0.000316</td>\n",
       "      <td>-0.035677</td>\n",
       "      <td>-0.017672</td>\n",
       "      <td>NaN</td>\n",
       "    </tr>\n",
       "    <tr>\n",
       "      <th>app_score</th>\n",
       "      <td>-0.002755</td>\n",
       "      <td>-0.065493</td>\n",
       "      <td>-0.020616</td>\n",
       "      <td>0.676281</td>\n",
       "      <td>0.967491</td>\n",
       "      <td>1.000000</td>\n",
       "      <td>-0.057933</td>\n",
       "      <td>0.033150</td>\n",
       "      <td>-0.139768</td>\n",
       "      <td>-0.060250</td>\n",
       "      <td>-0.000479</td>\n",
       "      <td>-0.040227</td>\n",
       "      <td>-0.011345</td>\n",
       "      <td>NaN</td>\n",
       "    </tr>\n",
       "    <tr>\n",
       "      <th>emui_dev</th>\n",
       "      <td>-0.000813</td>\n",
       "      <td>0.050223</td>\n",
       "      <td>0.091268</td>\n",
       "      <td>-0.020326</td>\n",
       "      <td>-0.058342</td>\n",
       "      <td>-0.057933</td>\n",
       "      <td>1.000000</td>\n",
       "      <td>-0.064624</td>\n",
       "      <td>0.433740</td>\n",
       "      <td>0.114699</td>\n",
       "      <td>0.004729</td>\n",
       "      <td>0.056403</td>\n",
       "      <td>0.040404</td>\n",
       "      <td>NaN</td>\n",
       "    </tr>\n",
       "    <tr>\n",
       "      <th>list_time</th>\n",
       "      <td>-0.238374</td>\n",
       "      <td>-0.013212</td>\n",
       "      <td>0.315244</td>\n",
       "      <td>0.012785</td>\n",
       "      <td>0.037711</td>\n",
       "      <td>0.033150</td>\n",
       "      <td>-0.064624</td>\n",
       "      <td>1.000000</td>\n",
       "      <td>-0.152015</td>\n",
       "      <td>-0.113983</td>\n",
       "      <td>0.005895</td>\n",
       "      <td>-0.045724</td>\n",
       "      <td>-0.042795</td>\n",
       "      <td>NaN</td>\n",
       "    </tr>\n",
       "    <tr>\n",
       "      <th>device_price</th>\n",
       "      <td>0.096851</td>\n",
       "      <td>0.152929</td>\n",
       "      <td>0.142653</td>\n",
       "      <td>-0.038682</td>\n",
       "      <td>-0.136860</td>\n",
       "      <td>-0.139768</td>\n",
       "      <td>0.433740</td>\n",
       "      <td>-0.152015</td>\n",
       "      <td>1.000000</td>\n",
       "      <td>0.245713</td>\n",
       "      <td>-0.000224</td>\n",
       "      <td>0.108825</td>\n",
       "      <td>0.180739</td>\n",
       "      <td>NaN</td>\n",
       "    </tr>\n",
       "    <tr>\n",
       "      <th>up_life_duration</th>\n",
       "      <td>0.060507</td>\n",
       "      <td>0.070751</td>\n",
       "      <td>-0.011437</td>\n",
       "      <td>-0.009515</td>\n",
       "      <td>-0.063767</td>\n",
       "      <td>-0.060250</td>\n",
       "      <td>0.114699</td>\n",
       "      <td>-0.113983</td>\n",
       "      <td>0.245713</td>\n",
       "      <td>1.000000</td>\n",
       "      <td>0.030718</td>\n",
       "      <td>0.234922</td>\n",
       "      <td>0.138900</td>\n",
       "      <td>NaN</td>\n",
       "    </tr>\n",
       "    <tr>\n",
       "      <th>membership_life_duration</th>\n",
       "      <td>0.000901</td>\n",
       "      <td>0.000727</td>\n",
       "      <td>-0.002791</td>\n",
       "      <td>0.001855</td>\n",
       "      <td>0.000316</td>\n",
       "      <td>-0.000479</td>\n",
       "      <td>0.004729</td>\n",
       "      <td>0.005895</td>\n",
       "      <td>-0.000224</td>\n",
       "      <td>0.030718</td>\n",
       "      <td>1.000000</td>\n",
       "      <td>0.014140</td>\n",
       "      <td>0.003161</td>\n",
       "      <td>NaN</td>\n",
       "    </tr>\n",
       "    <tr>\n",
       "      <th>consume_purchase</th>\n",
       "      <td>-0.032609</td>\n",
       "      <td>0.030281</td>\n",
       "      <td>0.012408</td>\n",
       "      <td>-0.006060</td>\n",
       "      <td>-0.035677</td>\n",
       "      <td>-0.040227</td>\n",
       "      <td>0.056403</td>\n",
       "      <td>-0.045724</td>\n",
       "      <td>0.108825</td>\n",
       "      <td>0.234922</td>\n",
       "      <td>0.014140</td>\n",
       "      <td>1.000000</td>\n",
       "      <td>0.039535</td>\n",
       "      <td>NaN</td>\n",
       "    </tr>\n",
       "    <tr>\n",
       "      <th>communication_avgonline_30d</th>\n",
       "      <td>0.165032</td>\n",
       "      <td>0.053052</td>\n",
       "      <td>-0.052767</td>\n",
       "      <td>0.000678</td>\n",
       "      <td>-0.017672</td>\n",
       "      <td>-0.011345</td>\n",
       "      <td>0.040404</td>\n",
       "      <td>-0.042795</td>\n",
       "      <td>0.180739</td>\n",
       "      <td>0.138900</td>\n",
       "      <td>0.003161</td>\n",
       "      <td>0.039535</td>\n",
       "      <td>1.000000</td>\n",
       "      <td>NaN</td>\n",
       "    </tr>\n",
       "    <tr>\n",
       "      <th>pt_d</th>\n",
       "      <td>NaN</td>\n",
       "      <td>NaN</td>\n",
       "      <td>NaN</td>\n",
       "      <td>NaN</td>\n",
       "      <td>NaN</td>\n",
       "      <td>NaN</td>\n",
       "      <td>NaN</td>\n",
       "      <td>NaN</td>\n",
       "      <td>NaN</td>\n",
       "      <td>NaN</td>\n",
       "      <td>NaN</td>\n",
       "      <td>NaN</td>\n",
       "      <td>NaN</td>\n",
       "      <td>NaN</td>\n",
       "    </tr>\n",
       "  </tbody>\n",
       "</table>\n",
       "</div>"
      ],
      "text/plain": [
       "                                  age  city_rank  device_size  his_app_size  \\\n",
       "age                          1.000000   0.066878    -0.085977      0.016581   \n",
       "city_rank                    0.066878   1.000000     0.024521     -0.021916   \n",
       "device_size                 -0.085977   0.024521     1.000000      0.004201   \n",
       "his_app_size                 0.016581  -0.021916     0.004201      1.000000   \n",
       "his_on_shelf_time           -0.008809  -0.069906    -0.017377      0.674449   \n",
       "app_score                   -0.002755  -0.065493    -0.020616      0.676281   \n",
       "emui_dev                    -0.000813   0.050223     0.091268     -0.020326   \n",
       "list_time                   -0.238374  -0.013212     0.315244      0.012785   \n",
       "device_price                 0.096851   0.152929     0.142653     -0.038682   \n",
       "up_life_duration             0.060507   0.070751    -0.011437     -0.009515   \n",
       "membership_life_duration     0.000901   0.000727    -0.002791      0.001855   \n",
       "consume_purchase            -0.032609   0.030281     0.012408     -0.006060   \n",
       "communication_avgonline_30d  0.165032   0.053052    -0.052767      0.000678   \n",
       "pt_d                              NaN        NaN          NaN           NaN   \n",
       "\n",
       "                             his_on_shelf_time  app_score  emui_dev  \\\n",
       "age                                  -0.008809  -0.002755 -0.000813   \n",
       "city_rank                            -0.069906  -0.065493  0.050223   \n",
       "device_size                          -0.017377  -0.020616  0.091268   \n",
       "his_app_size                          0.674449   0.676281 -0.020326   \n",
       "his_on_shelf_time                     1.000000   0.967491 -0.058342   \n",
       "app_score                             0.967491   1.000000 -0.057933   \n",
       "emui_dev                             -0.058342  -0.057933  1.000000   \n",
       "list_time                             0.037711   0.033150 -0.064624   \n",
       "device_price                         -0.136860  -0.139768  0.433740   \n",
       "up_life_duration                     -0.063767  -0.060250  0.114699   \n",
       "membership_life_duration              0.000316  -0.000479  0.004729   \n",
       "consume_purchase                     -0.035677  -0.040227  0.056403   \n",
       "communication_avgonline_30d          -0.017672  -0.011345  0.040404   \n",
       "pt_d                                       NaN        NaN       NaN   \n",
       "\n",
       "                             list_time  device_price  up_life_duration  \\\n",
       "age                          -0.238374      0.096851          0.060507   \n",
       "city_rank                    -0.013212      0.152929          0.070751   \n",
       "device_size                   0.315244      0.142653         -0.011437   \n",
       "his_app_size                  0.012785     -0.038682         -0.009515   \n",
       "his_on_shelf_time             0.037711     -0.136860         -0.063767   \n",
       "app_score                     0.033150     -0.139768         -0.060250   \n",
       "emui_dev                     -0.064624      0.433740          0.114699   \n",
       "list_time                     1.000000     -0.152015         -0.113983   \n",
       "device_price                 -0.152015      1.000000          0.245713   \n",
       "up_life_duration             -0.113983      0.245713          1.000000   \n",
       "membership_life_duration      0.005895     -0.000224          0.030718   \n",
       "consume_purchase             -0.045724      0.108825          0.234922   \n",
       "communication_avgonline_30d  -0.042795      0.180739          0.138900   \n",
       "pt_d                               NaN           NaN               NaN   \n",
       "\n",
       "                             membership_life_duration  consume_purchase  \\\n",
       "age                                          0.000901         -0.032609   \n",
       "city_rank                                    0.000727          0.030281   \n",
       "device_size                                 -0.002791          0.012408   \n",
       "his_app_size                                 0.001855         -0.006060   \n",
       "his_on_shelf_time                            0.000316         -0.035677   \n",
       "app_score                                   -0.000479         -0.040227   \n",
       "emui_dev                                     0.004729          0.056403   \n",
       "list_time                                    0.005895         -0.045724   \n",
       "device_price                                -0.000224          0.108825   \n",
       "up_life_duration                             0.030718          0.234922   \n",
       "membership_life_duration                     1.000000          0.014140   \n",
       "consume_purchase                             0.014140          1.000000   \n",
       "communication_avgonline_30d                  0.003161          0.039535   \n",
       "pt_d                                              NaN               NaN   \n",
       "\n",
       "                             communication_avgonline_30d  pt_d  \n",
       "age                                             0.165032   NaN  \n",
       "city_rank                                       0.053052   NaN  \n",
       "device_size                                    -0.052767   NaN  \n",
       "his_app_size                                    0.000678   NaN  \n",
       "his_on_shelf_time                              -0.017672   NaN  \n",
       "app_score                                      -0.011345   NaN  \n",
       "emui_dev                                        0.040404   NaN  \n",
       "list_time                                      -0.042795   NaN  \n",
       "device_price                                    0.180739   NaN  \n",
       "up_life_duration                                0.138900   NaN  \n",
       "membership_life_duration                        0.003161   NaN  \n",
       "consume_purchase                                0.039535   NaN  \n",
       "communication_avgonline_30d                     1.000000   NaN  \n",
       "pt_d                                                 NaN   NaN  "
      ]
     },
     "execution_count": 18,
     "metadata": {},
     "output_type": "execute_result"
    }
   ],
   "source": [
    "X_train[continous_cols].corr()"
   ]
  },
  {
   "cell_type": "code",
   "execution_count": 19,
   "id": "c2fb60fa",
   "metadata": {},
   "outputs": [],
   "source": [
    "def convert_communication_onlinerate1(row):\n",
    "    return int(row[\"communication_onlinerate\"].split(\"^\")[0])\n",
    "\n",
    "def convert_communication_onlinerate2(row):\n",
    "    return int(row[\"communication_onlinerate\"].split(\"^\")[-1])"
   ]
  },
  {
   "cell_type": "code",
   "execution_count": 20,
   "id": "4195cc5d",
   "metadata": {},
   "outputs": [],
   "source": [
    "X_train[\"communication_onlinerate_start\"] = X_train.apply( convert_communication_onlinerate1,axis=1)\n",
    "X_train[\"communication_onlinerate_end\"] = X_train.apply( convert_communication_onlinerate2,axis=1)\n",
    "\n",
    "\n",
    "X_test[\"communication_onlinerate_start\"] = X_test.apply( convert_communication_onlinerate1,axis=1)\n",
    "X_test[\"communication_onlinerate_end\"] = X_test.apply( convert_communication_onlinerate2,axis=1)\n",
    "\n"
   ]
  },
  {
   "cell_type": "code",
   "execution_count": 21,
   "id": "cedce773",
   "metadata": {},
   "outputs": [
    {
     "data": {
      "text/plain": [
       "Index(['uid', 'communication_onlinerate', 'task_id_0', 'task_id_1184',\n",
       "       'task_id_1401', 'task_id_1610', 'task_id_2325', 'task_id_2531',\n",
       "       'task_id_2784', 'task_id_3747',\n",
       "       ...\n",
       "       'indu_name_39', 'indu_name_42', 'indu_name_45', 'indu_name_46',\n",
       "       'indu_name_47', 'indu_name_50', 'indu_name_51', 'indu_name_52',\n",
       "       'communication_onlinerate_start', 'communication_onlinerate_end'],\n",
       "      dtype='object', length=450)"
      ]
     },
     "execution_count": 21,
     "metadata": {},
     "output_type": "execute_result"
    }
   ],
   "source": [
    "X_train.drop(columns = continous_cols).columns"
   ]
  },
  {
   "cell_type": "code",
   "execution_count": 22,
   "id": "7935cd5f",
   "metadata": {},
   "outputs": [
    {
     "data": {
      "text/plain": [
       "71787    0\n",
       "67218    0\n",
       "54066    7\n",
       "7168     1\n",
       "29618    6\n",
       "        ..\n",
       "17283    6\n",
       "89286   -1\n",
       "47263    5\n",
       "83913    5\n",
       "74735    0\n",
       "Name: communication_onlinerate_start, Length: 24000, dtype: int64"
      ]
     },
     "execution_count": 22,
     "metadata": {},
     "output_type": "execute_result"
    }
   ],
   "source": [
    "X_test[\"communication_onlinerate_start\"] "
   ]
  },
  {
   "cell_type": "markdown",
   "id": "327817aa",
   "metadata": {},
   "source": [
    "# Logisitc"
   ]
  },
  {
   "cell_type": "code",
   "execution_count": 58,
   "id": "5f205902",
   "metadata": {},
   "outputs": [
    {
     "data": {
      "text/plain": [
       "461"
      ]
     },
     "execution_count": 58,
     "metadata": {},
     "output_type": "execute_result"
    }
   ],
   "source": [
    "X_train.head()\n",
    "X_train1 = X_train.drop(columns = [\"communication_onlinerate\",\"pt_d\",\"uid\"])\n",
    "X_test1 = X_test.drop(columns = [\"communication_onlinerate\",\"pt_d\",\"uid\"])\n",
    "len(X_train1.columns)"
   ]
  },
  {
   "cell_type": "code",
   "execution_count": 24,
   "id": "e9fbc46e",
   "metadata": {},
   "outputs": [
    {
     "data": {
      "text/html": [
       "<style>#sk-container-id-1 {color: black;background-color: white;}#sk-container-id-1 pre{padding: 0;}#sk-container-id-1 div.sk-toggleable {background-color: white;}#sk-container-id-1 label.sk-toggleable__label {cursor: pointer;display: block;width: 100%;margin-bottom: 0;padding: 0.3em;box-sizing: border-box;text-align: center;}#sk-container-id-1 label.sk-toggleable__label-arrow:before {content: \"▸\";float: left;margin-right: 0.25em;color: #696969;}#sk-container-id-1 label.sk-toggleable__label-arrow:hover:before {color: black;}#sk-container-id-1 div.sk-estimator:hover label.sk-toggleable__label-arrow:before {color: black;}#sk-container-id-1 div.sk-toggleable__content {max-height: 0;max-width: 0;overflow: hidden;text-align: left;background-color: #f0f8ff;}#sk-container-id-1 div.sk-toggleable__content pre {margin: 0.2em;color: black;border-radius: 0.25em;background-color: #f0f8ff;}#sk-container-id-1 input.sk-toggleable__control:checked~div.sk-toggleable__content {max-height: 200px;max-width: 100%;overflow: auto;}#sk-container-id-1 input.sk-toggleable__control:checked~label.sk-toggleable__label-arrow:before {content: \"▾\";}#sk-container-id-1 div.sk-estimator input.sk-toggleable__control:checked~label.sk-toggleable__label {background-color: #d4ebff;}#sk-container-id-1 div.sk-label input.sk-toggleable__control:checked~label.sk-toggleable__label {background-color: #d4ebff;}#sk-container-id-1 input.sk-hidden--visually {border: 0;clip: rect(1px 1px 1px 1px);clip: rect(1px, 1px, 1px, 1px);height: 1px;margin: -1px;overflow: hidden;padding: 0;position: absolute;width: 1px;}#sk-container-id-1 div.sk-estimator {font-family: monospace;background-color: #f0f8ff;border: 1px dotted black;border-radius: 0.25em;box-sizing: border-box;margin-bottom: 0.5em;}#sk-container-id-1 div.sk-estimator:hover {background-color: #d4ebff;}#sk-container-id-1 div.sk-parallel-item::after {content: \"\";width: 100%;border-bottom: 1px solid gray;flex-grow: 1;}#sk-container-id-1 div.sk-label:hover label.sk-toggleable__label {background-color: #d4ebff;}#sk-container-id-1 div.sk-serial::before {content: \"\";position: absolute;border-left: 1px solid gray;box-sizing: border-box;top: 0;bottom: 0;left: 50%;z-index: 0;}#sk-container-id-1 div.sk-serial {display: flex;flex-direction: column;align-items: center;background-color: white;padding-right: 0.2em;padding-left: 0.2em;position: relative;}#sk-container-id-1 div.sk-item {position: relative;z-index: 1;}#sk-container-id-1 div.sk-parallel {display: flex;align-items: stretch;justify-content: center;background-color: white;position: relative;}#sk-container-id-1 div.sk-item::before, #sk-container-id-1 div.sk-parallel-item::before {content: \"\";position: absolute;border-left: 1px solid gray;box-sizing: border-box;top: 0;bottom: 0;left: 50%;z-index: -1;}#sk-container-id-1 div.sk-parallel-item {display: flex;flex-direction: column;z-index: 1;position: relative;background-color: white;}#sk-container-id-1 div.sk-parallel-item:first-child::after {align-self: flex-end;width: 50%;}#sk-container-id-1 div.sk-parallel-item:last-child::after {align-self: flex-start;width: 50%;}#sk-container-id-1 div.sk-parallel-item:only-child::after {width: 0;}#sk-container-id-1 div.sk-dashed-wrapped {border: 1px dashed gray;margin: 0 0.4em 0.5em 0.4em;box-sizing: border-box;padding-bottom: 0.4em;background-color: white;}#sk-container-id-1 div.sk-label label {font-family: monospace;font-weight: bold;display: inline-block;line-height: 1.2em;}#sk-container-id-1 div.sk-label-container {text-align: center;}#sk-container-id-1 div.sk-container {/* jupyter's `normalize.less` sets `[hidden] { display: none; }` but bootstrap.min.css set `[hidden] { display: none !important; }` so we also need the `!important` here to be able to override the default hidden behavior on the sphinx rendered scikit-learn.org. See: https://github.com/scikit-learn/scikit-learn/issues/21755 */display: inline-block !important;position: relative;}#sk-container-id-1 div.sk-text-repr-fallback {display: none;}</style><div id=\"sk-container-id-1\" class=\"sk-top-container\"><div class=\"sk-text-repr-fallback\"><pre>LogisticRegression(C=0.1, class_weight={0: 0.05, 1: 1})</pre><b>In a Jupyter environment, please rerun this cell to show the HTML representation or trust the notebook. <br />On GitHub, the HTML representation is unable to render, please try loading this page with nbviewer.org.</b></div><div class=\"sk-container\" hidden><div class=\"sk-item\"><div class=\"sk-estimator sk-toggleable\"><input class=\"sk-toggleable__control sk-hidden--visually\" id=\"sk-estimator-id-1\" type=\"checkbox\" checked><label for=\"sk-estimator-id-1\" class=\"sk-toggleable__label sk-toggleable__label-arrow\">LogisticRegression</label><div class=\"sk-toggleable__content\"><pre>LogisticRegression(C=0.1, class_weight={0: 0.05, 1: 1})</pre></div></div></div></div></div>"
      ],
      "text/plain": [
       "LogisticRegression(C=0.1, class_weight={0: 0.05, 1: 1})"
      ]
     },
     "execution_count": 24,
     "metadata": {},
     "output_type": "execute_result"
    }
   ],
   "source": [
    "\n",
    "log = LogisticRegression(penalty='l2',C=0.1, solver = \"lbfgs\",class_weight={0:0.05,1:1})\n",
    "log.fit(X_train1,y_train)\n"
   ]
  },
  {
   "cell_type": "code",
   "execution_count": 25,
   "id": "14d0774a",
   "metadata": {},
   "outputs": [
    {
     "data": {
      "text/html": [
       "<div>\n",
       "<style scoped>\n",
       "    .dataframe tbody tr th:only-of-type {\n",
       "        vertical-align: middle;\n",
       "    }\n",
       "\n",
       "    .dataframe tbody tr th {\n",
       "        vertical-align: top;\n",
       "    }\n",
       "\n",
       "    .dataframe thead th {\n",
       "        text-align: right;\n",
       "    }\n",
       "</style>\n",
       "<table border=\"1\" class=\"dataframe\">\n",
       "  <thead>\n",
       "    <tr style=\"text-align: right;\">\n",
       "      <th></th>\n",
       "      <th>coefs</th>\n",
       "      <th>name</th>\n",
       "    </tr>\n",
       "  </thead>\n",
       "  <tbody>\n",
       "    <tr>\n",
       "      <th>0</th>\n",
       "      <td>0.048708</td>\n",
       "      <td>age</td>\n",
       "    </tr>\n",
       "    <tr>\n",
       "      <th>1</th>\n",
       "      <td>-0.071437</td>\n",
       "      <td>city_rank</td>\n",
       "    </tr>\n",
       "    <tr>\n",
       "      <th>2</th>\n",
       "      <td>0.002318</td>\n",
       "      <td>device_size</td>\n",
       "    </tr>\n",
       "    <tr>\n",
       "      <th>3</th>\n",
       "      <td>-0.000316</td>\n",
       "      <td>his_app_size</td>\n",
       "    </tr>\n",
       "    <tr>\n",
       "      <th>4</th>\n",
       "      <td>0.087733</td>\n",
       "      <td>his_on_shelf_time</td>\n",
       "    </tr>\n",
       "    <tr>\n",
       "      <th>...</th>\n",
       "      <td>...</td>\n",
       "      <td>...</td>\n",
       "    </tr>\n",
       "    <tr>\n",
       "      <th>456</th>\n",
       "      <td>-0.014647</td>\n",
       "      <td>indu_name_50</td>\n",
       "    </tr>\n",
       "    <tr>\n",
       "      <th>457</th>\n",
       "      <td>-0.024274</td>\n",
       "      <td>indu_name_51</td>\n",
       "    </tr>\n",
       "    <tr>\n",
       "      <th>458</th>\n",
       "      <td>-0.013579</td>\n",
       "      <td>indu_name_52</td>\n",
       "    </tr>\n",
       "    <tr>\n",
       "      <th>459</th>\n",
       "      <td>-0.027308</td>\n",
       "      <td>communication_onlinerate_start</td>\n",
       "    </tr>\n",
       "    <tr>\n",
       "      <th>460</th>\n",
       "      <td>0.007269</td>\n",
       "      <td>communication_onlinerate_end</td>\n",
       "    </tr>\n",
       "  </tbody>\n",
       "</table>\n",
       "<p>461 rows × 2 columns</p>\n",
       "</div>"
      ],
      "text/plain": [
       "        coefs                            name\n",
       "0    0.048708                             age\n",
       "1   -0.071437                       city_rank\n",
       "2    0.002318                     device_size\n",
       "3   -0.000316                    his_app_size\n",
       "4    0.087733               his_on_shelf_time\n",
       "..        ...                             ...\n",
       "456 -0.014647                    indu_name_50\n",
       "457 -0.024274                    indu_name_51\n",
       "458 -0.013579                    indu_name_52\n",
       "459 -0.027308  communication_onlinerate_start\n",
       "460  0.007269    communication_onlinerate_end\n",
       "\n",
       "[461 rows x 2 columns]"
      ]
     },
     "execution_count": 25,
     "metadata": {},
     "output_type": "execute_result"
    }
   ],
   "source": [
    "df = pd.DataFrame()\n",
    "df[\"coefs\"] = log.coef_[0]\n",
    "df[\"name\"] = X_train1.columns\n",
    "df[abs(df[\"coefs\"])!=0]"
   ]
  },
  {
   "cell_type": "code",
   "execution_count": 26,
   "id": "c2a23139",
   "metadata": {},
   "outputs": [
    {
     "name": "stdout",
     "output_type": "stream",
     "text": [
      "[[18065   491]\n",
      " [ 5022   422]]\n"
     ]
    }
   ],
   "source": [
    "print(confusion_matrix(log.predict(X_test1),y_test))"
   ]
  },
  {
   "cell_type": "code",
   "execution_count": 27,
   "id": "e9f3fde1",
   "metadata": {},
   "outputs": [
    {
     "name": "stdout",
     "output_type": "stream",
     "text": [
      "0.0775165319617928\n"
     ]
    }
   ],
   "source": [
    "print(recall_score(log.predict(X_test1),y_test))"
   ]
  },
  {
   "cell_type": "code",
   "execution_count": 28,
   "id": "818198fd",
   "metadata": {},
   "outputs": [
    {
     "name": "stdout",
     "output_type": "stream",
     "text": [
      "0.46221248630887185\n"
     ]
    }
   ],
   "source": [
    "print(precision_score(log.predict(X_test1),y_test))"
   ]
  },
  {
   "cell_type": "code",
   "execution_count": 29,
   "id": "dd57f444",
   "metadata": {},
   "outputs": [
    {
     "name": "stdout",
     "output_type": "stream",
     "text": [
      "0.7009252873074096\n"
     ]
    }
   ],
   "source": [
    "print(f1_score(log.predict(X_test1),y_test,average = \"weighted\"))"
   ]
  },
  {
   "cell_type": "code",
   "execution_count": 30,
   "id": "1a8c0ae5",
   "metadata": {},
   "outputs": [
    {
     "name": "stdout",
     "output_type": "stream",
     "text": [
      "              precision    recall  f1-score   support\n",
      "\n",
      "           0       0.97      0.78      0.87     23087\n",
      "           1       0.08      0.46      0.13       913\n",
      "\n",
      "    accuracy                           0.77     24000\n",
      "   macro avg       0.53      0.62      0.50     24000\n",
      "weighted avg       0.94      0.77      0.84     24000\n",
      "\n"
     ]
    }
   ],
   "source": [
    "print(classification_report(y_test,log.predict(X_test1)))"
   ]
  },
  {
   "cell_type": "markdown",
   "id": "973485bf",
   "metadata": {},
   "source": [
    "# Tree"
   ]
  },
  {
   "cell_type": "code",
   "execution_count": 31,
   "id": "6f5d05be",
   "metadata": {},
   "outputs": [
    {
     "data": {
      "text/html": [
       "<style>#sk-container-id-2 {color: black;background-color: white;}#sk-container-id-2 pre{padding: 0;}#sk-container-id-2 div.sk-toggleable {background-color: white;}#sk-container-id-2 label.sk-toggleable__label {cursor: pointer;display: block;width: 100%;margin-bottom: 0;padding: 0.3em;box-sizing: border-box;text-align: center;}#sk-container-id-2 label.sk-toggleable__label-arrow:before {content: \"▸\";float: left;margin-right: 0.25em;color: #696969;}#sk-container-id-2 label.sk-toggleable__label-arrow:hover:before {color: black;}#sk-container-id-2 div.sk-estimator:hover label.sk-toggleable__label-arrow:before {color: black;}#sk-container-id-2 div.sk-toggleable__content {max-height: 0;max-width: 0;overflow: hidden;text-align: left;background-color: #f0f8ff;}#sk-container-id-2 div.sk-toggleable__content pre {margin: 0.2em;color: black;border-radius: 0.25em;background-color: #f0f8ff;}#sk-container-id-2 input.sk-toggleable__control:checked~div.sk-toggleable__content {max-height: 200px;max-width: 100%;overflow: auto;}#sk-container-id-2 input.sk-toggleable__control:checked~label.sk-toggleable__label-arrow:before {content: \"▾\";}#sk-container-id-2 div.sk-estimator input.sk-toggleable__control:checked~label.sk-toggleable__label {background-color: #d4ebff;}#sk-container-id-2 div.sk-label input.sk-toggleable__control:checked~label.sk-toggleable__label {background-color: #d4ebff;}#sk-container-id-2 input.sk-hidden--visually {border: 0;clip: rect(1px 1px 1px 1px);clip: rect(1px, 1px, 1px, 1px);height: 1px;margin: -1px;overflow: hidden;padding: 0;position: absolute;width: 1px;}#sk-container-id-2 div.sk-estimator {font-family: monospace;background-color: #f0f8ff;border: 1px dotted black;border-radius: 0.25em;box-sizing: border-box;margin-bottom: 0.5em;}#sk-container-id-2 div.sk-estimator:hover {background-color: #d4ebff;}#sk-container-id-2 div.sk-parallel-item::after {content: \"\";width: 100%;border-bottom: 1px solid gray;flex-grow: 1;}#sk-container-id-2 div.sk-label:hover label.sk-toggleable__label {background-color: #d4ebff;}#sk-container-id-2 div.sk-serial::before {content: \"\";position: absolute;border-left: 1px solid gray;box-sizing: border-box;top: 0;bottom: 0;left: 50%;z-index: 0;}#sk-container-id-2 div.sk-serial {display: flex;flex-direction: column;align-items: center;background-color: white;padding-right: 0.2em;padding-left: 0.2em;position: relative;}#sk-container-id-2 div.sk-item {position: relative;z-index: 1;}#sk-container-id-2 div.sk-parallel {display: flex;align-items: stretch;justify-content: center;background-color: white;position: relative;}#sk-container-id-2 div.sk-item::before, #sk-container-id-2 div.sk-parallel-item::before {content: \"\";position: absolute;border-left: 1px solid gray;box-sizing: border-box;top: 0;bottom: 0;left: 50%;z-index: -1;}#sk-container-id-2 div.sk-parallel-item {display: flex;flex-direction: column;z-index: 1;position: relative;background-color: white;}#sk-container-id-2 div.sk-parallel-item:first-child::after {align-self: flex-end;width: 50%;}#sk-container-id-2 div.sk-parallel-item:last-child::after {align-self: flex-start;width: 50%;}#sk-container-id-2 div.sk-parallel-item:only-child::after {width: 0;}#sk-container-id-2 div.sk-dashed-wrapped {border: 1px dashed gray;margin: 0 0.4em 0.5em 0.4em;box-sizing: border-box;padding-bottom: 0.4em;background-color: white;}#sk-container-id-2 div.sk-label label {font-family: monospace;font-weight: bold;display: inline-block;line-height: 1.2em;}#sk-container-id-2 div.sk-label-container {text-align: center;}#sk-container-id-2 div.sk-container {/* jupyter's `normalize.less` sets `[hidden] { display: none; }` but bootstrap.min.css set `[hidden] { display: none !important; }` so we also need the `!important` here to be able to override the default hidden behavior on the sphinx rendered scikit-learn.org. See: https://github.com/scikit-learn/scikit-learn/issues/21755 */display: inline-block !important;position: relative;}#sk-container-id-2 div.sk-text-repr-fallback {display: none;}</style><div id=\"sk-container-id-2\" class=\"sk-top-container\"><div class=\"sk-text-repr-fallback\"><pre>DecisionTreeClassifier()</pre><b>In a Jupyter environment, please rerun this cell to show the HTML representation or trust the notebook. <br />On GitHub, the HTML representation is unable to render, please try loading this page with nbviewer.org.</b></div><div class=\"sk-container\" hidden><div class=\"sk-item\"><div class=\"sk-estimator sk-toggleable\"><input class=\"sk-toggleable__control sk-hidden--visually\" id=\"sk-estimator-id-2\" type=\"checkbox\" checked><label for=\"sk-estimator-id-2\" class=\"sk-toggleable__label sk-toggleable__label-arrow\">DecisionTreeClassifier</label><div class=\"sk-toggleable__content\"><pre>DecisionTreeClassifier()</pre></div></div></div></div></div>"
      ],
      "text/plain": [
       "DecisionTreeClassifier()"
      ]
     },
     "execution_count": 31,
     "metadata": {},
     "output_type": "execute_result"
    }
   ],
   "source": [
    "model = DecisionTreeClassifier()\n",
    "model.fit(X_train1,y_train)\n",
    "\n"
   ]
  },
  {
   "cell_type": "code",
   "execution_count": 32,
   "id": "2be0616e",
   "metadata": {},
   "outputs": [
    {
     "name": "stdout",
     "output_type": "stream",
     "text": [
      "[[22183   904]\n",
      " [  856    57]]\n"
     ]
    }
   ],
   "source": [
    "print(confusion_matrix(y_test,model.predict(X_test1)))\n",
    "\n"
   ]
  },
  {
   "cell_type": "code",
   "execution_count": 33,
   "id": "d1050b57",
   "metadata": {},
   "outputs": [
    {
     "data": {
      "text/plain": [
       "0.5116376546242933"
      ]
     },
     "execution_count": 33,
     "metadata": {},
     "output_type": "execute_result"
    }
   ],
   "source": [
    "roc_auc_score(y_test,model.predict(X_test1))"
   ]
  },
  {
   "cell_type": "code",
   "execution_count": 34,
   "id": "d0761d50",
   "metadata": {},
   "outputs": [
    {
     "data": {
      "text/plain": [
       "0.05931321540062435"
      ]
     },
     "execution_count": 34,
     "metadata": {},
     "output_type": "execute_result"
    }
   ],
   "source": [
    "precision_score(y_test,model.predict(X_test1))"
   ]
  },
  {
   "cell_type": "code",
   "execution_count": 35,
   "id": "2011fc3e",
   "metadata": {},
   "outputs": [
    {
     "data": {
      "text/plain": [
       "0.0624315443592552"
      ]
     },
     "execution_count": 35,
     "metadata": {},
     "output_type": "execute_result"
    }
   ],
   "source": [
    "recall_score(y_test,model.predict(X_test1))"
   ]
  },
  {
   "cell_type": "code",
   "execution_count": 36,
   "id": "7b73ebcc",
   "metadata": {},
   "outputs": [
    {
     "data": {
      "text/plain": [
       "913"
      ]
     },
     "execution_count": 36,
     "metadata": {},
     "output_type": "execute_result"
    }
   ],
   "source": [
    "len(X_train)\n",
    "len(X_test)\n",
    "len(y_test[y_test==1])"
   ]
  },
  {
   "cell_type": "code",
   "execution_count": 37,
   "id": "c5809948",
   "metadata": {},
   "outputs": [
    {
     "name": "stdout",
     "output_type": "stream",
     "text": [
      "              precision    recall  f1-score   support\n",
      "\n",
      "           0       0.96      0.96      0.96     23039\n",
      "           1       0.06      0.06      0.06       961\n",
      "\n",
      "    accuracy                           0.93     24000\n",
      "   macro avg       0.51      0.51      0.51     24000\n",
      "weighted avg       0.92      0.93      0.93     24000\n",
      "\n"
     ]
    }
   ],
   "source": [
    "print(classification_report(model.predict(X_test1),y_test))"
   ]
  },
  {
   "cell_type": "markdown",
   "id": "5b334903",
   "metadata": {},
   "source": [
    "# Random Forest"
   ]
  },
  {
   "cell_type": "code",
   "execution_count": 38,
   "id": "93b6b5cb",
   "metadata": {},
   "outputs": [
    {
     "data": {
      "text/html": [
       "<style>#sk-container-id-3 {color: black;background-color: white;}#sk-container-id-3 pre{padding: 0;}#sk-container-id-3 div.sk-toggleable {background-color: white;}#sk-container-id-3 label.sk-toggleable__label {cursor: pointer;display: block;width: 100%;margin-bottom: 0;padding: 0.3em;box-sizing: border-box;text-align: center;}#sk-container-id-3 label.sk-toggleable__label-arrow:before {content: \"▸\";float: left;margin-right: 0.25em;color: #696969;}#sk-container-id-3 label.sk-toggleable__label-arrow:hover:before {color: black;}#sk-container-id-3 div.sk-estimator:hover label.sk-toggleable__label-arrow:before {color: black;}#sk-container-id-3 div.sk-toggleable__content {max-height: 0;max-width: 0;overflow: hidden;text-align: left;background-color: #f0f8ff;}#sk-container-id-3 div.sk-toggleable__content pre {margin: 0.2em;color: black;border-radius: 0.25em;background-color: #f0f8ff;}#sk-container-id-3 input.sk-toggleable__control:checked~div.sk-toggleable__content {max-height: 200px;max-width: 100%;overflow: auto;}#sk-container-id-3 input.sk-toggleable__control:checked~label.sk-toggleable__label-arrow:before {content: \"▾\";}#sk-container-id-3 div.sk-estimator input.sk-toggleable__control:checked~label.sk-toggleable__label {background-color: #d4ebff;}#sk-container-id-3 div.sk-label input.sk-toggleable__control:checked~label.sk-toggleable__label {background-color: #d4ebff;}#sk-container-id-3 input.sk-hidden--visually {border: 0;clip: rect(1px 1px 1px 1px);clip: rect(1px, 1px, 1px, 1px);height: 1px;margin: -1px;overflow: hidden;padding: 0;position: absolute;width: 1px;}#sk-container-id-3 div.sk-estimator {font-family: monospace;background-color: #f0f8ff;border: 1px dotted black;border-radius: 0.25em;box-sizing: border-box;margin-bottom: 0.5em;}#sk-container-id-3 div.sk-estimator:hover {background-color: #d4ebff;}#sk-container-id-3 div.sk-parallel-item::after {content: \"\";width: 100%;border-bottom: 1px solid gray;flex-grow: 1;}#sk-container-id-3 div.sk-label:hover label.sk-toggleable__label {background-color: #d4ebff;}#sk-container-id-3 div.sk-serial::before {content: \"\";position: absolute;border-left: 1px solid gray;box-sizing: border-box;top: 0;bottom: 0;left: 50%;z-index: 0;}#sk-container-id-3 div.sk-serial {display: flex;flex-direction: column;align-items: center;background-color: white;padding-right: 0.2em;padding-left: 0.2em;position: relative;}#sk-container-id-3 div.sk-item {position: relative;z-index: 1;}#sk-container-id-3 div.sk-parallel {display: flex;align-items: stretch;justify-content: center;background-color: white;position: relative;}#sk-container-id-3 div.sk-item::before, #sk-container-id-3 div.sk-parallel-item::before {content: \"\";position: absolute;border-left: 1px solid gray;box-sizing: border-box;top: 0;bottom: 0;left: 50%;z-index: -1;}#sk-container-id-3 div.sk-parallel-item {display: flex;flex-direction: column;z-index: 1;position: relative;background-color: white;}#sk-container-id-3 div.sk-parallel-item:first-child::after {align-self: flex-end;width: 50%;}#sk-container-id-3 div.sk-parallel-item:last-child::after {align-self: flex-start;width: 50%;}#sk-container-id-3 div.sk-parallel-item:only-child::after {width: 0;}#sk-container-id-3 div.sk-dashed-wrapped {border: 1px dashed gray;margin: 0 0.4em 0.5em 0.4em;box-sizing: border-box;padding-bottom: 0.4em;background-color: white;}#sk-container-id-3 div.sk-label label {font-family: monospace;font-weight: bold;display: inline-block;line-height: 1.2em;}#sk-container-id-3 div.sk-label-container {text-align: center;}#sk-container-id-3 div.sk-container {/* jupyter's `normalize.less` sets `[hidden] { display: none; }` but bootstrap.min.css set `[hidden] { display: none !important; }` so we also need the `!important` here to be able to override the default hidden behavior on the sphinx rendered scikit-learn.org. See: https://github.com/scikit-learn/scikit-learn/issues/21755 */display: inline-block !important;position: relative;}#sk-container-id-3 div.sk-text-repr-fallback {display: none;}</style><div id=\"sk-container-id-3\" class=\"sk-top-container\"><div class=\"sk-text-repr-fallback\"><pre>RandomForestClassifier()</pre><b>In a Jupyter environment, please rerun this cell to show the HTML representation or trust the notebook. <br />On GitHub, the HTML representation is unable to render, please try loading this page with nbviewer.org.</b></div><div class=\"sk-container\" hidden><div class=\"sk-item\"><div class=\"sk-estimator sk-toggleable\"><input class=\"sk-toggleable__control sk-hidden--visually\" id=\"sk-estimator-id-3\" type=\"checkbox\" checked><label for=\"sk-estimator-id-3\" class=\"sk-toggleable__label sk-toggleable__label-arrow\">RandomForestClassifier</label><div class=\"sk-toggleable__content\"><pre>RandomForestClassifier()</pre></div></div></div></div></div>"
      ],
      "text/plain": [
       "RandomForestClassifier()"
      ]
     },
     "execution_count": 38,
     "metadata": {},
     "output_type": "execute_result"
    }
   ],
   "source": [
    "m2 = RandomForestClassifier()\n",
    "m2.fit(X_train1,y_train)\n"
   ]
  },
  {
   "cell_type": "code",
   "execution_count": 39,
   "id": "c33d2b7e",
   "metadata": {},
   "outputs": [
    {
     "name": "stdout",
     "output_type": "stream",
     "text": [
      "[[23071   898]\n",
      " [   16    15]]\n"
     ]
    }
   ],
   "source": [
    "print(confusion_matrix(m2.predict(X_test1),y_test))"
   ]
  },
  {
   "cell_type": "code",
   "execution_count": 40,
   "id": "636d3b35",
   "metadata": {},
   "outputs": [
    {
     "data": {
      "text/plain": [
       "0.507868161534414"
      ]
     },
     "execution_count": 40,
     "metadata": {},
     "output_type": "execute_result"
    }
   ],
   "source": [
    "roc_auc_score(y_test,m2.predict(X_test1))"
   ]
  },
  {
   "cell_type": "code",
   "execution_count": 41,
   "id": "5c350246",
   "metadata": {},
   "outputs": [
    {
     "name": "stdout",
     "output_type": "stream",
     "text": [
      "              precision    recall  f1-score   support\n",
      "\n",
      "           0       1.00      0.96      0.98     23969\n",
      "           1       0.02      0.48      0.03        31\n",
      "\n",
      "    accuracy                           0.96     24000\n",
      "   macro avg       0.51      0.72      0.51     24000\n",
      "weighted avg       1.00      0.96      0.98     24000\n",
      "\n"
     ]
    }
   ],
   "source": [
    "print(classification_report(m2.predict(X_test1),y_test))"
   ]
  },
  {
   "cell_type": "markdown",
   "id": "67da74c9",
   "metadata": {},
   "source": [
    "# XGBoost"
   ]
  },
  {
   "cell_type": "code",
   "execution_count": 42,
   "id": "37cc96ec",
   "metadata": {},
   "outputs": [],
   "source": [
    "\n",
    "X1 = tf_data.drop(columns = [\"label\"])\n",
    "y1 = tf_data[\"label\"]\n",
    "X1_train, X1_test, y1_train, y1_test = train_test_split(X1, y1, test_size=0.2, random_state=42)\n",
    "\n",
    "X1_train[\"communication_onlinerate_start\"] = X1_train.apply( convert_communication_onlinerate1,axis=1)\n",
    "X1_train[\"communication_onlinerate_end\"] = X1_train.apply( convert_communication_onlinerate2,axis=1)\n",
    "\n",
    "\n",
    "X1_test[\"communication_onlinerate_start\"] = X1_test.apply( convert_communication_onlinerate1,axis=1)\n",
    "X1_test[\"communication_onlinerate_end\"] = X1_test.apply( convert_communication_onlinerate2,axis=1)\n",
    "\n",
    "X1_train1 = X1_train.drop(columns = [\"communication_onlinerate\",\"pt_d\",\"uid\"])\n",
    "X1_test1 = X1_test.drop(columns = [\"communication_onlinerate\",\"pt_d\",\"uid\"])\n",
    "\n"
   ]
  },
  {
   "cell_type": "code",
   "execution_count": 43,
   "id": "74c4c3c4",
   "metadata": {},
   "outputs": [
    {
     "name": "stdout",
     "output_type": "stream",
     "text": [
      "[20:51:16] WARNING: /var/folders/sy/f16zz6x50xz3113nwtb9bvq00000gp/T/abs_44tbtwf8c1/croots/recipe/xgboost-split_1659548960882/work/src/learner.cc:1115: Starting in XGBoost 1.3.0, the default evaluation metric used with the objective 'binary:logistic' was changed from 'error' to 'logloss'. Explicitly set eval_metric if you'd like to restore the old behavior.\n"
     ]
    },
    {
     "data": {
      "text/html": [
       "<style>#sk-container-id-4 {color: black;background-color: white;}#sk-container-id-4 pre{padding: 0;}#sk-container-id-4 div.sk-toggleable {background-color: white;}#sk-container-id-4 label.sk-toggleable__label {cursor: pointer;display: block;width: 100%;margin-bottom: 0;padding: 0.3em;box-sizing: border-box;text-align: center;}#sk-container-id-4 label.sk-toggleable__label-arrow:before {content: \"▸\";float: left;margin-right: 0.25em;color: #696969;}#sk-container-id-4 label.sk-toggleable__label-arrow:hover:before {color: black;}#sk-container-id-4 div.sk-estimator:hover label.sk-toggleable__label-arrow:before {color: black;}#sk-container-id-4 div.sk-toggleable__content {max-height: 0;max-width: 0;overflow: hidden;text-align: left;background-color: #f0f8ff;}#sk-container-id-4 div.sk-toggleable__content pre {margin: 0.2em;color: black;border-radius: 0.25em;background-color: #f0f8ff;}#sk-container-id-4 input.sk-toggleable__control:checked~div.sk-toggleable__content {max-height: 200px;max-width: 100%;overflow: auto;}#sk-container-id-4 input.sk-toggleable__control:checked~label.sk-toggleable__label-arrow:before {content: \"▾\";}#sk-container-id-4 div.sk-estimator input.sk-toggleable__control:checked~label.sk-toggleable__label {background-color: #d4ebff;}#sk-container-id-4 div.sk-label input.sk-toggleable__control:checked~label.sk-toggleable__label {background-color: #d4ebff;}#sk-container-id-4 input.sk-hidden--visually {border: 0;clip: rect(1px 1px 1px 1px);clip: rect(1px, 1px, 1px, 1px);height: 1px;margin: -1px;overflow: hidden;padding: 0;position: absolute;width: 1px;}#sk-container-id-4 div.sk-estimator {font-family: monospace;background-color: #f0f8ff;border: 1px dotted black;border-radius: 0.25em;box-sizing: border-box;margin-bottom: 0.5em;}#sk-container-id-4 div.sk-estimator:hover {background-color: #d4ebff;}#sk-container-id-4 div.sk-parallel-item::after {content: \"\";width: 100%;border-bottom: 1px solid gray;flex-grow: 1;}#sk-container-id-4 div.sk-label:hover label.sk-toggleable__label {background-color: #d4ebff;}#sk-container-id-4 div.sk-serial::before {content: \"\";position: absolute;border-left: 1px solid gray;box-sizing: border-box;top: 0;bottom: 0;left: 50%;z-index: 0;}#sk-container-id-4 div.sk-serial {display: flex;flex-direction: column;align-items: center;background-color: white;padding-right: 0.2em;padding-left: 0.2em;position: relative;}#sk-container-id-4 div.sk-item {position: relative;z-index: 1;}#sk-container-id-4 div.sk-parallel {display: flex;align-items: stretch;justify-content: center;background-color: white;position: relative;}#sk-container-id-4 div.sk-item::before, #sk-container-id-4 div.sk-parallel-item::before {content: \"\";position: absolute;border-left: 1px solid gray;box-sizing: border-box;top: 0;bottom: 0;left: 50%;z-index: -1;}#sk-container-id-4 div.sk-parallel-item {display: flex;flex-direction: column;z-index: 1;position: relative;background-color: white;}#sk-container-id-4 div.sk-parallel-item:first-child::after {align-self: flex-end;width: 50%;}#sk-container-id-4 div.sk-parallel-item:last-child::after {align-self: flex-start;width: 50%;}#sk-container-id-4 div.sk-parallel-item:only-child::after {width: 0;}#sk-container-id-4 div.sk-dashed-wrapped {border: 1px dashed gray;margin: 0 0.4em 0.5em 0.4em;box-sizing: border-box;padding-bottom: 0.4em;background-color: white;}#sk-container-id-4 div.sk-label label {font-family: monospace;font-weight: bold;display: inline-block;line-height: 1.2em;}#sk-container-id-4 div.sk-label-container {text-align: center;}#sk-container-id-4 div.sk-container {/* jupyter's `normalize.less` sets `[hidden] { display: none; }` but bootstrap.min.css set `[hidden] { display: none !important; }` so we also need the `!important` here to be able to override the default hidden behavior on the sphinx rendered scikit-learn.org. See: https://github.com/scikit-learn/scikit-learn/issues/21755 */display: inline-block !important;position: relative;}#sk-container-id-4 div.sk-text-repr-fallback {display: none;}</style><div id=\"sk-container-id-4\" class=\"sk-top-container\"><div class=\"sk-text-repr-fallback\"><pre>XGBClassifier(base_score=0.5, booster=&#x27;gbtree&#x27;, colsample_bylevel=1,\n",
       "              colsample_bynode=1, colsample_bytree=1, enable_categorical=False,\n",
       "              gamma=0, gpu_id=-1, importance_type=None,\n",
       "              interaction_constraints=&#x27;&#x27;, learning_rate=0.300000012,\n",
       "              max_delta_step=0, max_depth=6, min_child_weight=1, missing=nan,\n",
       "              monotone_constraints=&#x27;()&#x27;, n_estimators=100, n_jobs=8,\n",
       "              num_parallel_tree=1, predictor=&#x27;auto&#x27;, random_state=0,\n",
       "              reg_alpha=0, reg_lambda=1, scale_pos_weight=1, subsample=1,\n",
       "              tree_method=&#x27;exact&#x27;, use_label_encoder=False,\n",
       "              validate_parameters=1, verbosity=None)</pre><b>In a Jupyter environment, please rerun this cell to show the HTML representation or trust the notebook. <br />On GitHub, the HTML representation is unable to render, please try loading this page with nbviewer.org.</b></div><div class=\"sk-container\" hidden><div class=\"sk-item\"><div class=\"sk-estimator sk-toggleable\"><input class=\"sk-toggleable__control sk-hidden--visually\" id=\"sk-estimator-id-4\" type=\"checkbox\" checked><label for=\"sk-estimator-id-4\" class=\"sk-toggleable__label sk-toggleable__label-arrow\">XGBClassifier</label><div class=\"sk-toggleable__content\"><pre>XGBClassifier(base_score=0.5, booster=&#x27;gbtree&#x27;, colsample_bylevel=1,\n",
       "              colsample_bynode=1, colsample_bytree=1, enable_categorical=False,\n",
       "              gamma=0, gpu_id=-1, importance_type=None,\n",
       "              interaction_constraints=&#x27;&#x27;, learning_rate=0.300000012,\n",
       "              max_delta_step=0, max_depth=6, min_child_weight=1, missing=nan,\n",
       "              monotone_constraints=&#x27;()&#x27;, n_estimators=100, n_jobs=8,\n",
       "              num_parallel_tree=1, predictor=&#x27;auto&#x27;, random_state=0,\n",
       "              reg_alpha=0, reg_lambda=1, scale_pos_weight=1, subsample=1,\n",
       "              tree_method=&#x27;exact&#x27;, use_label_encoder=False,\n",
       "              validate_parameters=1, verbosity=None)</pre></div></div></div></div></div>"
      ],
      "text/plain": [
       "XGBClassifier(base_score=0.5, booster='gbtree', colsample_bylevel=1,\n",
       "              colsample_bynode=1, colsample_bytree=1, enable_categorical=False,\n",
       "              gamma=0, gpu_id=-1, importance_type=None,\n",
       "              interaction_constraints='', learning_rate=0.300000012,\n",
       "              max_delta_step=0, max_depth=6, min_child_weight=1, missing=nan,\n",
       "              monotone_constraints='()', n_estimators=100, n_jobs=8,\n",
       "              num_parallel_tree=1, predictor='auto', random_state=0,\n",
       "              reg_alpha=0, reg_lambda=1, scale_pos_weight=1, subsample=1,\n",
       "              tree_method='exact', use_label_encoder=False,\n",
       "              validate_parameters=1, verbosity=None)"
      ]
     },
     "execution_count": 43,
     "metadata": {},
     "output_type": "execute_result"
    }
   ],
   "source": [
    "m3 = xgb.XGBClassifier(use_label_encoder=False)\n",
    "m3.fit(X1_train1,y_train)\n"
   ]
  },
  {
   "cell_type": "code",
   "execution_count": 44,
   "id": "9ab278af",
   "metadata": {},
   "outputs": [
    {
     "name": "stdout",
     "output_type": "stream",
     "text": [
      "[[23082     5]\n",
      " [  910     3]]\n"
     ]
    }
   ],
   "source": [
    "print(confusion_matrix(y_test,m3.predict(X1_test1)))"
   ]
  },
  {
   "cell_type": "code",
   "execution_count": 45,
   "id": "0aff99e1",
   "metadata": {},
   "outputs": [
    {
     "data": {
      "text/plain": [
       "0.5015346493294497"
      ]
     },
     "execution_count": 45,
     "metadata": {},
     "output_type": "execute_result"
    }
   ],
   "source": [
    "roc_auc_score(y_test,m3.predict(X1_test1))"
   ]
  },
  {
   "cell_type": "markdown",
   "id": "b958270e",
   "metadata": {},
   "source": [
    "# SMOTE"
   ]
  },
  {
   "cell_type": "markdown",
   "id": "e9eba401",
   "metadata": {},
   "source": [
    "### Undersampling"
   ]
  },
  {
   "cell_type": "code",
   "execution_count": 46,
   "id": "d189e34e",
   "metadata": {},
   "outputs": [],
   "source": [
    "#Under sampling\n",
    "rus = RandomUnderSampler(random_state=42,replacement=True)# fit predictor and target variable\n",
    "x_rus, y_rus = rus.fit_resample(X_train1, y_train)\n"
   ]
  },
  {
   "cell_type": "markdown",
   "id": "4f13e892",
   "metadata": {},
   "source": [
    "## Undersampling with different class 0 samples"
   ]
  },
  {
   "cell_type": "code",
   "execution_count": 82,
   "id": "86d8d9ba",
   "metadata": {},
   "outputs": [],
   "source": [
    "ratio = [0.05,0.1,0.15,0.20,0.25,0.30,0.35,0.4,0.45,0.5]\n",
    "n1 = 92521\n",
    "n2 = 3479\n",
    "precision_scores = []\n",
    "recall_scores = []\n",
    "\n",
    "x1 = X_train1[y_train==1]\n",
    "x0 = X_train1[y_train==0]\n",
    "y1 = y_train[y_train==1]\n",
    "\n",
    "\n",
    "\n",
    "\n",
    "\n"
   ]
  },
  {
   "cell_type": "code",
   "execution_count": 83,
   "id": "ce4ccc94",
   "metadata": {},
   "outputs": [],
   "source": [
    "for r in ratio:\n",
    "    \n",
    "    \n",
    "    sample_size =  int(float(n2)*(1/r-1))\n",
    "    subset_index= sorted(random.sample(range(0,len(x0)),sample_size))\n",
    "\n",
    "    x0 = x0.iloc[subset_index]\n",
    "    x_rus = x1.append(x0)    \n",
    "    y0 = y_train[y_train==0].iloc[subset_index]\n",
    "    y_rus = y1.append(y0)\n",
    "\n",
    "\n",
    "    #len(x_rus.columns)\n",
    "    #models = [ DecisionTreeClassifier(),RandomForestClassifier(),xgb.XGBClassifier(use_label_encoder=False)]\n",
    "    m = RandomForestClassifier()\n",
    "    m.fit(x_rus,y_rus)\n",
    "    precision_scores.append(precision_score(y_test,m.predict(X_test1)))\n",
    "    recall_scores.append(recall_score(y_test,m.predict(X_test1)))"
   ]
  },
  {
   "cell_type": "code",
   "execution_count": 79,
   "id": "c719b09a",
   "metadata": {},
   "outputs": [],
   "source": [
    "f1_scores = []\n",
    "for i in range(0,10):\n",
    "    f1_scores.append(2*precision_scores[i]*recall_scores[i]/(precision_scores[i]+recall_scores[i]))\n"
   ]
  },
  {
   "cell_type": "code",
   "execution_count": 80,
   "id": "d53d1ab8",
   "metadata": {},
   "outputs": [
    {
     "data": {
      "text/plain": [
       "[<matplotlib.lines.Line2D at 0x7fcfa3f66d00>]"
      ]
     },
     "execution_count": 80,
     "metadata": {},
     "output_type": "execute_result"
    },
    {
     "data": {
      "image/png": "[encoded data removed]",
      "text/plain": [
       "<Figure size 432x288 with 1 Axes>"
      ]
     },
     "metadata": {
      "needs_background": "light"
     },
     "output_type": "display_data"
    }
   ],
   "source": [
    "plt.plot(ratio,f1_scores)"
   ]
  },
  {
   "cell_type": "code",
   "execution_count": 57,
   "id": "178c2e76",
   "metadata": {},
   "outputs": [
    {
     "data": {
      "text/html": [
       "<div>\n",
       "<style scoped>\n",
       "    .dataframe tbody tr th:only-of-type {\n",
       "        vertical-align: middle;\n",
       "    }\n",
       "\n",
       "    .dataframe tbody tr th {\n",
       "        vertical-align: top;\n",
       "    }\n",
       "\n",
       "    .dataframe thead th {\n",
       "        text-align: right;\n",
       "    }\n",
       "</style>\n",
       "<table border=\"1\" class=\"dataframe\">\n",
       "  <thead>\n",
       "    <tr style=\"text-align: right;\">\n",
       "      <th></th>\n",
       "      <th>age</th>\n",
       "      <th>city_rank</th>\n",
       "      <th>device_size</th>\n",
       "      <th>his_app_size</th>\n",
       "      <th>his_on_shelf_time</th>\n",
       "      <th>app_score</th>\n",
       "      <th>emui_dev</th>\n",
       "      <th>list_time</th>\n",
       "      <th>device_price</th>\n",
       "      <th>up_life_duration</th>\n",
       "      <th>...</th>\n",
       "      <th>indu_name_39</th>\n",
       "      <th>indu_name_42</th>\n",
       "      <th>indu_name_45</th>\n",
       "      <th>indu_name_46</th>\n",
       "      <th>indu_name_47</th>\n",
       "      <th>indu_name_50</th>\n",
       "      <th>indu_name_51</th>\n",
       "      <th>indu_name_52</th>\n",
       "      <th>communication_onlinerate_start</th>\n",
       "      <th>communication_onlinerate_end</th>\n",
       "    </tr>\n",
       "  </thead>\n",
       "  <tbody>\n",
       "    <tr>\n",
       "      <th>71787</th>\n",
       "      <td>3</td>\n",
       "      <td>3</td>\n",
       "      <td>141</td>\n",
       "      <td>6</td>\n",
       "      <td>3</td>\n",
       "      <td>2</td>\n",
       "      <td>14</td>\n",
       "      <td>8</td>\n",
       "      <td>4</td>\n",
       "      <td>-1</td>\n",
       "      <td>...</td>\n",
       "      <td>0</td>\n",
       "      <td>0</td>\n",
       "      <td>0</td>\n",
       "      <td>0</td>\n",
       "      <td>0</td>\n",
       "      <td>0</td>\n",
       "      <td>0</td>\n",
       "      <td>0</td>\n",
       "      <td>0</td>\n",
       "      <td>23</td>\n",
       "    </tr>\n",
       "    <tr>\n",
       "      <th>67218</th>\n",
       "      <td>4</td>\n",
       "      <td>3</td>\n",
       "      <td>141</td>\n",
       "      <td>5</td>\n",
       "      <td>3</td>\n",
       "      <td>2</td>\n",
       "      <td>12</td>\n",
       "      <td>9</td>\n",
       "      <td>3</td>\n",
       "      <td>-1</td>\n",
       "      <td>...</td>\n",
       "      <td>0</td>\n",
       "      <td>1</td>\n",
       "      <td>0</td>\n",
       "      <td>0</td>\n",
       "      <td>0</td>\n",
       "      <td>0</td>\n",
       "      <td>0</td>\n",
       "      <td>0</td>\n",
       "      <td>0</td>\n",
       "      <td>23</td>\n",
       "    </tr>\n",
       "    <tr>\n",
       "      <th>54066</th>\n",
       "      <td>5</td>\n",
       "      <td>5</td>\n",
       "      <td>141</td>\n",
       "      <td>13</td>\n",
       "      <td>3</td>\n",
       "      <td>2</td>\n",
       "      <td>27</td>\n",
       "      <td>4</td>\n",
       "      <td>5</td>\n",
       "      <td>20</td>\n",
       "      <td>...</td>\n",
       "      <td>0</td>\n",
       "      <td>0</td>\n",
       "      <td>0</td>\n",
       "      <td>0</td>\n",
       "      <td>0</td>\n",
       "      <td>0</td>\n",
       "      <td>0</td>\n",
       "      <td>1</td>\n",
       "      <td>7</td>\n",
       "      <td>23</td>\n",
       "    </tr>\n",
       "    <tr>\n",
       "      <th>7168</th>\n",
       "      <td>5</td>\n",
       "      <td>4</td>\n",
       "      <td>162</td>\n",
       "      <td>14</td>\n",
       "      <td>2</td>\n",
       "      <td>2</td>\n",
       "      <td>20</td>\n",
       "      <td>4</td>\n",
       "      <td>5</td>\n",
       "      <td>20</td>\n",
       "      <td>...</td>\n",
       "      <td>0</td>\n",
       "      <td>0</td>\n",
       "      <td>0</td>\n",
       "      <td>0</td>\n",
       "      <td>0</td>\n",
       "      <td>0</td>\n",
       "      <td>0</td>\n",
       "      <td>0</td>\n",
       "      <td>1</td>\n",
       "      <td>23</td>\n",
       "    </tr>\n",
       "    <tr>\n",
       "      <th>29618</th>\n",
       "      <td>1</td>\n",
       "      <td>3</td>\n",
       "      <td>141</td>\n",
       "      <td>4</td>\n",
       "      <td>3</td>\n",
       "      <td>2</td>\n",
       "      <td>20</td>\n",
       "      <td>8</td>\n",
       "      <td>4</td>\n",
       "      <td>-1</td>\n",
       "      <td>...</td>\n",
       "      <td>0</td>\n",
       "      <td>0</td>\n",
       "      <td>0</td>\n",
       "      <td>0</td>\n",
       "      <td>0</td>\n",
       "      <td>0</td>\n",
       "      <td>0</td>\n",
       "      <td>0</td>\n",
       "      <td>6</td>\n",
       "      <td>23</td>\n",
       "    </tr>\n",
       "    <tr>\n",
       "      <th>...</th>\n",
       "      <td>...</td>\n",
       "      <td>...</td>\n",
       "      <td>...</td>\n",
       "      <td>...</td>\n",
       "      <td>...</td>\n",
       "      <td>...</td>\n",
       "      <td>...</td>\n",
       "      <td>...</td>\n",
       "      <td>...</td>\n",
       "      <td>...</td>\n",
       "      <td>...</td>\n",
       "      <td>...</td>\n",
       "      <td>...</td>\n",
       "      <td>...</td>\n",
       "      <td>...</td>\n",
       "      <td>...</td>\n",
       "      <td>...</td>\n",
       "      <td>...</td>\n",
       "      <td>...</td>\n",
       "      <td>...</td>\n",
       "      <td>...</td>\n",
       "    </tr>\n",
       "    <tr>\n",
       "      <th>17283</th>\n",
       "      <td>7</td>\n",
       "      <td>4</td>\n",
       "      <td>117</td>\n",
       "      <td>11</td>\n",
       "      <td>2</td>\n",
       "      <td>2</td>\n",
       "      <td>14</td>\n",
       "      <td>9</td>\n",
       "      <td>3</td>\n",
       "      <td>-1</td>\n",
       "      <td>...</td>\n",
       "      <td>0</td>\n",
       "      <td>0</td>\n",
       "      <td>0</td>\n",
       "      <td>0</td>\n",
       "      <td>0</td>\n",
       "      <td>0</td>\n",
       "      <td>0</td>\n",
       "      <td>0</td>\n",
       "      <td>6</td>\n",
       "      <td>23</td>\n",
       "    </tr>\n",
       "    <tr>\n",
       "      <th>89286</th>\n",
       "      <td>5</td>\n",
       "      <td>5</td>\n",
       "      <td>287</td>\n",
       "      <td>13</td>\n",
       "      <td>3</td>\n",
       "      <td>2</td>\n",
       "      <td>20</td>\n",
       "      <td>4</td>\n",
       "      <td>5</td>\n",
       "      <td>20</td>\n",
       "      <td>...</td>\n",
       "      <td>0</td>\n",
       "      <td>0</td>\n",
       "      <td>0</td>\n",
       "      <td>0</td>\n",
       "      <td>0</td>\n",
       "      <td>0</td>\n",
       "      <td>0</td>\n",
       "      <td>0</td>\n",
       "      <td>-1</td>\n",
       "      <td>-1</td>\n",
       "    </tr>\n",
       "    <tr>\n",
       "      <th>47263</th>\n",
       "      <td>4</td>\n",
       "      <td>3</td>\n",
       "      <td>141</td>\n",
       "      <td>-1</td>\n",
       "      <td>-1</td>\n",
       "      <td>1</td>\n",
       "      <td>20</td>\n",
       "      <td>10</td>\n",
       "      <td>2</td>\n",
       "      <td>-1</td>\n",
       "      <td>...</td>\n",
       "      <td>0</td>\n",
       "      <td>0</td>\n",
       "      <td>0</td>\n",
       "      <td>0</td>\n",
       "      <td>0</td>\n",
       "      <td>0</td>\n",
       "      <td>0</td>\n",
       "      <td>0</td>\n",
       "      <td>5</td>\n",
       "      <td>23</td>\n",
       "    </tr>\n",
       "    <tr>\n",
       "      <th>83913</th>\n",
       "      <td>5</td>\n",
       "      <td>5</td>\n",
       "      <td>141</td>\n",
       "      <td>9</td>\n",
       "      <td>3</td>\n",
       "      <td>2</td>\n",
       "      <td>20</td>\n",
       "      <td>4</td>\n",
       "      <td>5</td>\n",
       "      <td>-1</td>\n",
       "      <td>...</td>\n",
       "      <td>0</td>\n",
       "      <td>0</td>\n",
       "      <td>0</td>\n",
       "      <td>0</td>\n",
       "      <td>0</td>\n",
       "      <td>0</td>\n",
       "      <td>0</td>\n",
       "      <td>0</td>\n",
       "      <td>5</td>\n",
       "      <td>23</td>\n",
       "    </tr>\n",
       "    <tr>\n",
       "      <th>74735</th>\n",
       "      <td>4</td>\n",
       "      <td>3</td>\n",
       "      <td>162</td>\n",
       "      <td>13</td>\n",
       "      <td>3</td>\n",
       "      <td>2</td>\n",
       "      <td>20</td>\n",
       "      <td>4</td>\n",
       "      <td>5</td>\n",
       "      <td>20</td>\n",
       "      <td>...</td>\n",
       "      <td>0</td>\n",
       "      <td>0</td>\n",
       "      <td>0</td>\n",
       "      <td>0</td>\n",
       "      <td>0</td>\n",
       "      <td>0</td>\n",
       "      <td>0</td>\n",
       "      <td>0</td>\n",
       "      <td>0</td>\n",
       "      <td>23</td>\n",
       "    </tr>\n",
       "  </tbody>\n",
       "</table>\n",
       "<p>24000 rows × 461 columns</p>\n",
       "</div>"
      ],
      "text/plain": [
       "       age  city_rank  device_size  his_app_size  his_on_shelf_time  \\\n",
       "71787    3          3          141             6                  3   \n",
       "67218    4          3          141             5                  3   \n",
       "54066    5          5          141            13                  3   \n",
       "7168     5          4          162            14                  2   \n",
       "29618    1          3          141             4                  3   \n",
       "...    ...        ...          ...           ...                ...   \n",
       "17283    7          4          117            11                  2   \n",
       "89286    5          5          287            13                  3   \n",
       "47263    4          3          141            -1                 -1   \n",
       "83913    5          5          141             9                  3   \n",
       "74735    4          3          162            13                  3   \n",
       "\n",
       "       app_score  emui_dev  list_time  device_price  up_life_duration  ...  \\\n",
       "71787          2        14          8             4                -1  ...   \n",
       "67218          2        12          9             3                -1  ...   \n",
       "54066          2        27          4             5                20  ...   \n",
       "7168           2        20          4             5                20  ...   \n",
       "29618          2        20          8             4                -1  ...   \n",
       "...          ...       ...        ...           ...               ...  ...   \n",
       "17283          2        14          9             3                -1  ...   \n",
       "89286          2        20          4             5                20  ...   \n",
       "47263          1        20         10             2                -1  ...   \n",
       "83913          2        20          4             5                -1  ...   \n",
       "74735          2        20          4             5                20  ...   \n",
       "\n",
       "       indu_name_39  indu_name_42  indu_name_45  indu_name_46  indu_name_47  \\\n",
       "71787             0             0             0             0             0   \n",
       "67218             0             1             0             0             0   \n",
       "54066             0             0             0             0             0   \n",
       "7168              0             0             0             0             0   \n",
       "29618             0             0             0             0             0   \n",
       "...             ...           ...           ...           ...           ...   \n",
       "17283             0             0             0             0             0   \n",
       "89286             0             0             0             0             0   \n",
       "47263             0             0             0             0             0   \n",
       "83913             0             0             0             0             0   \n",
       "74735             0             0             0             0             0   \n",
       "\n",
       "       indu_name_50  indu_name_51  indu_name_52  \\\n",
       "71787             0             0             0   \n",
       "67218             0             0             0   \n",
       "54066             0             0             1   \n",
       "7168              0             0             0   \n",
       "29618             0             0             0   \n",
       "...             ...           ...           ...   \n",
       "17283             0             0             0   \n",
       "89286             0             0             0   \n",
       "47263             0             0             0   \n",
       "83913             0             0             0   \n",
       "74735             0             0             0   \n",
       "\n",
       "       communication_onlinerate_start  communication_onlinerate_end  \n",
       "71787                               0                            23  \n",
       "67218                               0                            23  \n",
       "54066                               7                            23  \n",
       "7168                                1                            23  \n",
       "29618                               6                            23  \n",
       "...                               ...                           ...  \n",
       "17283                               6                            23  \n",
       "89286                              -1                            -1  \n",
       "47263                               5                            23  \n",
       "83913                               5                            23  \n",
       "74735                               0                            23  \n",
       "\n",
       "[24000 rows x 461 columns]"
      ]
     },
     "execution_count": 57,
     "metadata": {},
     "output_type": "execute_result"
    }
   ],
   "source": [
    "X_test1\n",
    "#recall_score(y_test,m.predict(X_test1))"
   ]
  },
  {
   "cell_type": "code",
   "execution_count": null,
   "id": "b5d092dc",
   "metadata": {},
   "outputs": [],
   "source": [
    "max(f1_score)"
   ]
  },
  {
   "cell_type": "code",
   "execution_count": 82,
   "id": "092e543f",
   "metadata": {},
   "outputs": [
    {
     "data": {
      "text/plain": [
       "92520"
      ]
     },
     "execution_count": 82,
     "metadata": {},
     "output_type": "execute_result"
    }
   ],
   "source": [
    "ratio = 0.04\n",
    "n1 = 92521\n",
    "n2 = 3479\n",
    "sample_size =  int(n2*(1/ratio - 1))\n",
    "subset_index= sorted(random.sample(range(n1),sample_size))\n",
    "\n",
    "max(subset_index)\n",
    "#print(sample_size)\n",
    "#x1 = X_train1[y_train==1]\n",
    "#x0 = X_train1[y_train==0]\n",
    "#x0 = x0.iloc[subset_index]\n",
    "\n",
    "#y1 = y_train[y_train==1].reset_index()\n",
    "#y0 = y_train[y_train==0].reset_index().iloc[subset_index]\n",
    "#y_rus = y1.append(x0)\n",
    "\n",
    "\n",
    "\n",
    "\n"
   ]
  },
  {
   "cell_type": "code",
   "execution_count": 576,
   "id": "af16feb9",
   "metadata": {},
   "outputs": [
    {
     "data": {
      "text/plain": [
       "0    92521\n",
       "1     3479\n",
       "Name: label, dtype: int64"
      ]
     },
     "execution_count": 576,
     "metadata": {},
     "output_type": "execute_result"
    }
   ],
   "source": [
    "y_train.value_counts()"
   ]
  },
  {
   "cell_type": "code",
   "execution_count": null,
   "id": "e80f7f20",
   "metadata": {},
   "outputs": [
    {
     "name": "stdout",
     "output_type": "stream",
     "text": [
      "0    3532\n",
      "1    3532\n",
      "Name: label, dtype: int64\n"
     ]
    }
   ],
   "source": [
    "print(y_rus.value_counts())"
   ]
  },
  {
   "cell_type": "code",
   "execution_count": null,
   "id": "158c7943",
   "metadata": {},
   "outputs": [
    {
     "name": "stdout",
     "output_type": "stream",
     "text": [
      "[[13008 10097]\n",
      " [  399   496]]\n"
     ]
    }
   ],
   "source": [
    "#Tree\n",
    "model = DecisionTreeClassifier()\n",
    "model.fit(x_rus,y_rus)\n",
    "print(confusion_matrix(y_test,model.predict(X_test1)))\n"
   ]
  },
  {
   "cell_type": "code",
   "execution_count": null,
   "id": "c20fc80c",
   "metadata": {},
   "outputs": [
    {
     "data": {
      "text/plain": [
       "0.5585924834282163"
      ]
     },
     "execution_count": 482,
     "metadata": {},
     "output_type": "execute_result"
    }
   ],
   "source": [
    "roc_auc_score(y_test,model.predict(X_test1))"
   ]
  },
  {
   "cell_type": "code",
   "execution_count": null,
   "id": "fd27c01c",
   "metadata": {},
   "outputs": [
    {
     "data": {
      "text/plain": [
       "0.046823373926177664"
      ]
     },
     "execution_count": 483,
     "metadata": {},
     "output_type": "execute_result"
    }
   ],
   "source": [
    "precision_score(y_test,model.predict(X_test1))"
   ]
  },
  {
   "cell_type": "code",
   "execution_count": null,
   "id": "a8ca6d51",
   "metadata": {},
   "outputs": [
    {
     "data": {
      "text/plain": [
       "0.5541899441340782"
      ]
     },
     "execution_count": 486,
     "metadata": {},
     "output_type": "execute_result"
    }
   ],
   "source": [
    "## TP/(TP+FN)\n",
    "recall_score(y_test,model.predict(X_test1))"
   ]
  },
  {
   "cell_type": "code",
   "execution_count": null,
   "id": "3fa9ee9b",
   "metadata": {},
   "outputs": [
    {
     "name": "stdout",
     "output_type": "stream",
     "text": [
      "              precision    recall  f1-score   support\n",
      "\n",
      "           0       0.56      0.97      0.71     13407\n",
      "           1       0.55      0.05      0.09     10593\n",
      "\n",
      "    accuracy                           0.56     24000\n",
      "   macro avg       0.56      0.51      0.40     24000\n",
      "weighted avg       0.56      0.56      0.44     24000\n",
      "\n"
     ]
    }
   ],
   "source": [
    "print(classification_report(model.predict(X_test1),y_test))"
   ]
  },
  {
   "cell_type": "code",
   "execution_count": null,
   "id": "af01fd02",
   "metadata": {},
   "outputs": [
    {
     "name": "stdout",
     "output_type": "stream",
     "text": [
      "[[15369  7736]\n",
      " [  379   516]]\n"
     ]
    }
   ],
   "source": [
    "# Forest\n",
    "m2 = RandomForestClassifier()\n",
    "m2.fit(x_rus,y_rus)\n",
    "print(confusion_matrix(y_test,m2.predict(X_test1)))"
   ]
  },
  {
   "cell_type": "code",
   "execution_count": null,
   "id": "ec53a7cc",
   "metadata": {},
   "outputs": [
    {
     "data": {
      "text/plain": [
       "0.6208585048340163"
      ]
     },
     "execution_count": 489,
     "metadata": {},
     "output_type": "execute_result"
    }
   ],
   "source": [
    "roc_auc_score(y_test,m2.predict(X_test1),)"
   ]
  },
  {
   "cell_type": "code",
   "execution_count": null,
   "id": "52dc7006",
   "metadata": {},
   "outputs": [
    {
     "data": {
      "text/plain": [
       "0.06253029568589433"
      ]
     },
     "execution_count": 490,
     "metadata": {},
     "output_type": "execute_result"
    }
   ],
   "source": [
    "precision_score(y_test,m2.predict(X_test1))"
   ]
  },
  {
   "cell_type": "code",
   "execution_count": null,
   "id": "ce5c89ac",
   "metadata": {},
   "outputs": [
    {
     "data": {
      "text/plain": [
       "0.576536312849162"
      ]
     },
     "execution_count": 491,
     "metadata": {},
     "output_type": "execute_result"
    }
   ],
   "source": [
    "## TP/(TP+FN)\n",
    "recall_score(y_test,m2.predict(X_test1))"
   ]
  },
  {
   "cell_type": "code",
   "execution_count": null,
   "id": "754bcc7e",
   "metadata": {},
   "outputs": [
    {
     "name": "stdout",
     "output_type": "stream",
     "text": [
      "              precision    recall  f1-score   support\n",
      "\n",
      "           0       0.98      0.67      0.79     23105\n",
      "           1       0.06      0.58      0.11       895\n",
      "\n",
      "    accuracy                           0.66     24000\n",
      "   macro avg       0.52      0.62      0.45     24000\n",
      "weighted avg       0.94      0.66      0.77     24000\n",
      "\n"
     ]
    }
   ],
   "source": [
    "print(classification_report(y_test,m2.predict(X_test1)))"
   ]
  },
  {
   "cell_type": "code",
   "execution_count": null,
   "id": "815c2454",
   "metadata": {},
   "outputs": [
    {
     "name": "stdout",
     "output_type": "stream",
     "text": [
      "[18:00:46] WARNING: /var/folders/sy/f16zz6x50xz3113nwtb9bvq00000gp/T/abs_44tbtwf8c1/croots/recipe/xgboost-split_1659548960882/work/src/learner.cc:1115: Starting in XGBoost 1.3.0, the default evaluation metric used with the objective 'binary:logistic' was changed from 'error' to 'logloss'. Explicitly set eval_metric if you'd like to restore the old behavior.\n",
      "[[14182  8923]\n",
      " [  371   524]]\n"
     ]
    }
   ],
   "source": [
    "#XGBoost\n",
    "x1_rus, y_rus = rus.fit_resample(X1_train1, y_train)\n",
    "\n",
    "m3 = xgb.XGBClassifier(use_label_encoder=False)\n",
    "m3.fit(x1_rus,y_rus)\n",
    "print(confusion_matrix(y_test,m3.predict(X1_test1)))"
   ]
  },
  {
   "cell_type": "code",
   "execution_count": null,
   "id": "f4d2c58b",
   "metadata": {},
   "outputs": [
    {
     "data": {
      "text/plain": [
       "0.5996406978585738"
      ]
     },
     "execution_count": 501,
     "metadata": {},
     "output_type": "execute_result"
    }
   ],
   "source": [
    "roc_auc_score(y_test,m3.predict(X1_test1))"
   ]
  },
  {
   "cell_type": "code",
   "execution_count": null,
   "id": "593d9928",
   "metadata": {},
   "outputs": [
    {
     "data": {
      "text/plain": [
       "0.05546734413041177"
      ]
     },
     "execution_count": 502,
     "metadata": {},
     "output_type": "execute_result"
    }
   ],
   "source": [
    "precision_score(y_test,m3.predict(X1_test1))"
   ]
  },
  {
   "cell_type": "code",
   "execution_count": null,
   "id": "ec581d36",
   "metadata": {},
   "outputs": [
    {
     "data": {
      "text/plain": [
       "0.5854748603351956"
      ]
     },
     "execution_count": 503,
     "metadata": {},
     "output_type": "execute_result"
    }
   ],
   "source": [
    "recall_score(y_test,m3.predict(X1_test1))\n"
   ]
  },
  {
   "cell_type": "code",
   "execution_count": null,
   "id": "133fa7ef",
   "metadata": {},
   "outputs": [
    {
     "data": {
      "text/plain": [
       "0.7288907008566622"
      ]
     },
     "execution_count": 504,
     "metadata": {},
     "output_type": "execute_result"
    }
   ],
   "source": [
    "f1_score(y_test,m3.predict(X1_test1),average=\"weighted\")"
   ]
  },
  {
   "cell_type": "code",
   "execution_count": null,
   "id": "1dcdc648",
   "metadata": {},
   "outputs": [
    {
     "name": "stdout",
     "output_type": "stream",
     "text": [
      "              precision    recall  f1-score   support\n",
      "\n",
      "           0       0.97      0.61      0.75     23105\n",
      "           1       0.06      0.59      0.10       895\n",
      "\n",
      "    accuracy                           0.61     24000\n",
      "   macro avg       0.51      0.60      0.43     24000\n",
      "weighted avg       0.94      0.61      0.73     24000\n",
      "\n"
     ]
    }
   ],
   "source": [
    "print(classification_report(y_test,m3.predict(X1_test1)))"
   ]
  },
  {
   "cell_type": "markdown",
   "id": "7bf97c03",
   "metadata": {},
   "source": [
    "### Oversampling"
   ]
  },
  {
   "cell_type": "code",
   "execution_count": 556,
   "id": "f9b04b5b",
   "metadata": {},
   "outputs": [
    {
     "data": {
      "text/html": [
       "<style>#sk-container-id-24 {color: black;background-color: white;}#sk-container-id-24 pre{padding: 0;}#sk-container-id-24 div.sk-toggleable {background-color: white;}#sk-container-id-24 label.sk-toggleable__label {cursor: pointer;display: block;width: 100%;margin-bottom: 0;padding: 0.3em;box-sizing: border-box;text-align: center;}#sk-container-id-24 label.sk-toggleable__label-arrow:before {content: \"▸\";float: left;margin-right: 0.25em;color: #696969;}#sk-container-id-24 label.sk-toggleable__label-arrow:hover:before {color: black;}#sk-container-id-24 div.sk-estimator:hover label.sk-toggleable__label-arrow:before {color: black;}#sk-container-id-24 div.sk-toggleable__content {max-height: 0;max-width: 0;overflow: hidden;text-align: left;background-color: #f0f8ff;}#sk-container-id-24 div.sk-toggleable__content pre {margin: 0.2em;color: black;border-radius: 0.25em;background-color: #f0f8ff;}#sk-container-id-24 input.sk-toggleable__control:checked~div.sk-toggleable__content {max-height: 200px;max-width: 100%;overflow: auto;}#sk-container-id-24 input.sk-toggleable__control:checked~label.sk-toggleable__label-arrow:before {content: \"▾\";}#sk-container-id-24 div.sk-estimator input.sk-toggleable__control:checked~label.sk-toggleable__label {background-color: #d4ebff;}#sk-container-id-24 div.sk-label input.sk-toggleable__control:checked~label.sk-toggleable__label {background-color: #d4ebff;}#sk-container-id-24 input.sk-hidden--visually {border: 0;clip: rect(1px 1px 1px 1px);clip: rect(1px, 1px, 1px, 1px);height: 1px;margin: -1px;overflow: hidden;padding: 0;position: absolute;width: 1px;}#sk-container-id-24 div.sk-estimator {font-family: monospace;background-color: #f0f8ff;border: 1px dotted black;border-radius: 0.25em;box-sizing: border-box;margin-bottom: 0.5em;}#sk-container-id-24 div.sk-estimator:hover {background-color: #d4ebff;}#sk-container-id-24 div.sk-parallel-item::after {content: \"\";width: 100%;border-bottom: 1px solid gray;flex-grow: 1;}#sk-container-id-24 div.sk-label:hover label.sk-toggleable__label {background-color: #d4ebff;}#sk-container-id-24 div.sk-serial::before {content: \"\";position: absolute;border-left: 1px solid gray;box-sizing: border-box;top: 0;bottom: 0;left: 50%;z-index: 0;}#sk-container-id-24 div.sk-serial {display: flex;flex-direction: column;align-items: center;background-color: white;padding-right: 0.2em;padding-left: 0.2em;position: relative;}#sk-container-id-24 div.sk-item {position: relative;z-index: 1;}#sk-container-id-24 div.sk-parallel {display: flex;align-items: stretch;justify-content: center;background-color: white;position: relative;}#sk-container-id-24 div.sk-item::before, #sk-container-id-24 div.sk-parallel-item::before {content: \"\";position: absolute;border-left: 1px solid gray;box-sizing: border-box;top: 0;bottom: 0;left: 50%;z-index: -1;}#sk-container-id-24 div.sk-parallel-item {display: flex;flex-direction: column;z-index: 1;position: relative;background-color: white;}#sk-container-id-24 div.sk-parallel-item:first-child::after {align-self: flex-end;width: 50%;}#sk-container-id-24 div.sk-parallel-item:last-child::after {align-self: flex-start;width: 50%;}#sk-container-id-24 div.sk-parallel-item:only-child::after {width: 0;}#sk-container-id-24 div.sk-dashed-wrapped {border: 1px dashed gray;margin: 0 0.4em 0.5em 0.4em;box-sizing: border-box;padding-bottom: 0.4em;background-color: white;}#sk-container-id-24 div.sk-label label {font-family: monospace;font-weight: bold;display: inline-block;line-height: 1.2em;}#sk-container-id-24 div.sk-label-container {text-align: center;}#sk-container-id-24 div.sk-container {/* jupyter's `normalize.less` sets `[hidden] { display: none; }` but bootstrap.min.css set `[hidden] { display: none !important; }` so we also need the `!important` here to be able to override the default hidden behavior on the sphinx rendered scikit-learn.org. See: https://github.com/scikit-learn/scikit-learn/issues/21755 */display: inline-block !important;position: relative;}#sk-container-id-24 div.sk-text-repr-fallback {display: none;}</style><div id=\"sk-container-id-24\" class=\"sk-top-container\"><div class=\"sk-text-repr-fallback\"><pre>DecisionTreeClassifier()</pre><b>In a Jupyter environment, please rerun this cell to show the HTML representation or trust the notebook. <br />On GitHub, the HTML representation is unable to render, please try loading this page with nbviewer.org.</b></div><div class=\"sk-container\" hidden><div class=\"sk-item\"><div class=\"sk-estimator sk-toggleable\"><input class=\"sk-toggleable__control sk-hidden--visually\" id=\"sk-estimator-id-24\" type=\"checkbox\" checked><label for=\"sk-estimator-id-24\" class=\"sk-toggleable__label sk-toggleable__label-arrow\">DecisionTreeClassifier</label><div class=\"sk-toggleable__content\"><pre>DecisionTreeClassifier()</pre></div></div></div></div></div>"
      ],
      "text/plain": [
       "DecisionTreeClassifier()"
      ]
     },
     "execution_count": 556,
     "metadata": {},
     "output_type": "execute_result"
    }
   ],
   "source": [
    "# oversampling\n",
    "from imblearn.over_sampling import SMOTE, ADASYN\n",
    "# fit predictor and target variable\n",
    "x_ros, y_ros = ADASYN().fit_resample(X_train1, y_train)\n",
    "\n",
    "# Tree\n",
    "model = DecisionTreeClassifier()\n",
    "model.fit(x_ros,y_ros)\n"
   ]
  },
  {
   "cell_type": "code",
   "execution_count": 557,
   "id": "950337ef",
   "metadata": {},
   "outputs": [
    {
     "data": {
      "text/plain": [
       "0    92521\n",
       "1    92042\n",
       "Name: label, dtype: int64"
      ]
     },
     "execution_count": 557,
     "metadata": {},
     "output_type": "execute_result"
    }
   ],
   "source": [
    "\n",
    "\n",
    "y_ros.value_counts()"
   ]
  },
  {
   "cell_type": "code",
   "execution_count": 558,
   "id": "75e1a925",
   "metadata": {},
   "outputs": [
    {
     "name": "stdout",
     "output_type": "stream",
     "text": [
      "[[22113   986]\n",
      " [  829    72]]\n"
     ]
    }
   ],
   "source": [
    "print(confusion_matrix(y_test,model.predict(X_test1)))"
   ]
  },
  {
   "cell_type": "code",
   "execution_count": 559,
   "id": "f1d951dd",
   "metadata": {},
   "outputs": [
    {
     "data": {
      "text/plain": [
       "0.5186126896057452"
      ]
     },
     "execution_count": 559,
     "metadata": {},
     "output_type": "execute_result"
    }
   ],
   "source": [
    "roc_auc_score(y_test,model.predict(X_test1))"
   ]
  },
  {
   "cell_type": "code",
   "execution_count": 560,
   "id": "adaec69d",
   "metadata": {},
   "outputs": [
    {
     "data": {
      "text/plain": [
       "0.06805293005671077"
      ]
     },
     "execution_count": 560,
     "metadata": {},
     "output_type": "execute_result"
    }
   ],
   "source": [
    "precision_score(y_test,model.predict(X_test1))"
   ]
  },
  {
   "cell_type": "code",
   "execution_count": 561,
   "id": "ad476039",
   "metadata": {},
   "outputs": [
    {
     "data": {
      "text/plain": [
       "0.07991120976692564"
      ]
     },
     "execution_count": 561,
     "metadata": {},
     "output_type": "execute_result"
    }
   ],
   "source": [
    "recall_score(y_test,model.predict(X_test1))"
   ]
  },
  {
   "cell_type": "code",
   "execution_count": 562,
   "id": "25d9977e",
   "metadata": {},
   "outputs": [
    {
     "name": "stdout",
     "output_type": "stream",
     "text": [
      "              precision    recall  f1-score   support\n",
      "\n",
      "           0       0.96      0.96      0.96     23099\n",
      "           1       0.07      0.08      0.07       901\n",
      "\n",
      "    accuracy                           0.92     24000\n",
      "   macro avg       0.52      0.52      0.52     24000\n",
      "weighted avg       0.93      0.92      0.93     24000\n",
      "\n"
     ]
    }
   ],
   "source": [
    "print(classification_report(y_test,model.predict(X_test1)))"
   ]
  },
  {
   "cell_type": "code",
   "execution_count": 563,
   "id": "c0efa32b",
   "metadata": {},
   "outputs": [
    {
     "name": "stdout",
     "output_type": "stream",
     "text": [
      "[[23066    33]\n",
      " [  890    11]]\n"
     ]
    }
   ],
   "source": [
    "## Random Forest\n",
    "\n",
    "m2 = RandomForestClassifier()\n",
    "m2.fit(x_ros,y_ros)\n",
    "print(confusion_matrix(y_test,m2.predict(X_test1)))"
   ]
  },
  {
   "cell_type": "code",
   "execution_count": 564,
   "id": "af6aa053",
   "metadata": {},
   "outputs": [
    {
     "data": {
      "text/plain": [
       "0.5053900118867785"
      ]
     },
     "execution_count": 564,
     "metadata": {},
     "output_type": "execute_result"
    }
   ],
   "source": [
    "roc_auc_score(y_test,m2.predict(X_test1))"
   ]
  },
  {
   "cell_type": "code",
   "execution_count": 565,
   "id": "d071f2cd",
   "metadata": {},
   "outputs": [
    {
     "data": {
      "text/plain": [
       "0.01220865704772475"
      ]
     },
     "execution_count": 565,
     "metadata": {},
     "output_type": "execute_result"
    }
   ],
   "source": [
    "recall_score(y_test,m2.predict(X_test1))"
   ]
  },
  {
   "cell_type": "code",
   "execution_count": 566,
   "id": "68a40eea",
   "metadata": {},
   "outputs": [
    {
     "name": "stdout",
     "output_type": "stream",
     "text": [
      "              precision    recall  f1-score   support\n",
      "\n",
      "           0       0.96      1.00      0.98     23099\n",
      "           1       0.25      0.01      0.02       901\n",
      "\n",
      "    accuracy                           0.96     24000\n",
      "   macro avg       0.61      0.51      0.50     24000\n",
      "weighted avg       0.94      0.96      0.94     24000\n",
      "\n"
     ]
    }
   ],
   "source": [
    "print(classification_report(y_test,m2.predict(X_test1)))"
   ]
  },
  {
   "cell_type": "code",
   "execution_count": 568,
   "id": "411a78b8",
   "metadata": {},
   "outputs": [
    {
     "name": "stdout",
     "output_type": "stream",
     "text": [
      "[18:12:47] WARNING: /var/folders/sy/f16zz6x50xz3113nwtb9bvq00000gp/T/abs_44tbtwf8c1/croots/recipe/xgboost-split_1659548960882/work/src/learner.cc:1115: Starting in XGBoost 1.3.0, the default evaluation metric used with the objective 'binary:logistic' was changed from 'error' to 'logloss'. Explicitly set eval_metric if you'd like to restore the old behavior.\n",
      "[[22823   276]\n",
      " [  886    15]]\n"
     ]
    }
   ],
   "source": [
    "##XGBoost\n",
    "x1_ros, y_ros = ADASYN().fit_resample(X1_train1, y_train)  \n",
    "\n",
    "m3 = xgb.XGBClassifier(use_label_encoder=False)\n",
    "m3.fit(x1_ros,y_ros)\n",
    "print(confusion_matrix(y_test,m3.predict(X1_test1)))"
   ]
  },
  {
   "cell_type": "code",
   "execution_count": 569,
   "id": "275b0b4c",
   "metadata": {},
   "outputs": [
    {
     "data": {
      "text/plain": [
       "0.5023497997496564"
      ]
     },
     "execution_count": 569,
     "metadata": {},
     "output_type": "execute_result"
    }
   ],
   "source": [
    "roc_auc_score(y_test,m3.predict(X1_test1))"
   ]
  },
  {
   "cell_type": "code",
   "execution_count": 570,
   "id": "963d27e0",
   "metadata": {},
   "outputs": [
    {
     "data": {
      "text/plain": [
       "0.016648168701442843"
      ]
     },
     "execution_count": 570,
     "metadata": {},
     "output_type": "execute_result"
    }
   ],
   "source": [
    "recall_score(y_test,m3.predict(X1_test1))"
   ]
  },
  {
   "cell_type": "code",
   "execution_count": 571,
   "id": "b160efdc",
   "metadata": {},
   "outputs": [
    {
     "data": {
      "text/plain": [
       "0.05154639175257732"
      ]
     },
     "execution_count": 571,
     "metadata": {},
     "output_type": "execute_result"
    }
   ],
   "source": [
    "precision_score(y_test,m3.predict(X1_test1))"
   ]
  },
  {
   "cell_type": "code",
   "execution_count": null,
   "id": "038add53",
   "metadata": {},
   "outputs": [
    {
     "data": {
      "text/plain": [
       "0    23105\n",
       "1      895\n",
       "Name: label, dtype: int64"
      ]
     },
     "execution_count": 463,
     "metadata": {},
     "output_type": "execute_result"
    }
   ],
   "source": [
    "y_test.value_counts()\n"
   ]
  }
 ],
 "metadata": {
  "kernelspec": {
   "display_name": "Python 3 (ipykernel)",
   "language": "python",
   "name": "python3"
  },
  "language_info": {
   "codemirror_mode": {
    "name": "ipython",
    "version": 3
   },
   "file_extension": ".py",
   "mimetype": "text/x-python",
   "name": "python",
   "nbconvert_exporter": "python",
   "pygments_lexer": "ipython3",
   "version": "3.9.13"
  },
  "vscode": {
   "interpreter": {
    "hash": "40d3a090f54c6569ab1632332b64b2c03c39dcf918b08424e98f38b5ae0af88f"
   }
  }
 },
 "nbformat": 4,
 "nbformat_minor": 5
}
